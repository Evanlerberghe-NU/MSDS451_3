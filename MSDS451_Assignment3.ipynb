{
  "cells": [
    {
      "cell_type": "markdown",
      "metadata": {
        "id": "view-in-github",
        "colab_type": "text"
      },
      "source": [
        "<a href=\"https://colab.research.google.com/github/Evanlerberghe-NU/MSDS451_3/blob/main/MSDS451_Assignment3.ipynb\" target=\"_parent\"><img src=\"https://colab.research.google.com/assets/colab-badge.svg\" alt=\"Open In Colab\"/></a>"
      ]
    },
    {
      "cell_type": "markdown",
      "metadata": {
        "id": "gD7ZCANLUUsK"
      },
      "source": [
        "<h2><font color='#306998'><center>MSDS 451 Feature Engineering</center></font></h2>\n",
        "<h2><center>Financial Machine Learning: Adding Features to the Mix</center></h2>\n",
        "<h3><center>Thomas W. Miller, August 25, 2025</center></h3>\n",
        "---"
      ]
    },
    {
      "cell_type": "markdown",
      "metadata": {
        "id": "MykVR8wXUUsM"
      },
      "source": [
        "## Overview\n",
        "We again use machine learning classifiers, including tree-based ensemble boosting and bagging methods, to predict the direction of oil futures (up or down) using a number of lagged price features. In particular, we look at daily closing spot prices for [West Texas Intermediate (ticker WTI)](https://en.wikipedia.org/wiki/West_Texas_Intermediate) with lags of one to seven days, as well as features based on opening, closing, high, and low price points, and daily trading volume.\n",
        "\n",
        "Tree-based ensemble models for predicting the direction of daily returns set the stage for testing the predictive utility of additional features. The domain of potential features or leading indicators is wide, including those associated with other price series, economic indicators, international events, securities filings, analyst and news reports, and media measures. Here we explore a set of nine features defined from a range of exchange-traded funds (ETFs).\n",
        "\n",
        "The model-building process demonstrated here can be employed for any asset or portfolio of assets.\n",
        "\n",
        "The model building process involves these steps:\n",
        "\n",
        "- Define price-based features for the target asset.\n",
        "- Define binary features (Up or not Up) for other assets, economic measures, market measures, worldwide events, and media measures.\n",
        "- Fit an ensemble model to the full set of features within a time series cross-validation design using a tree-structured ensemble with hyperparameters set to their default values. Note the test set classification performance in predicting movement (Up or not Up) in the target asset.\n",
        "- Utilized randomized search across key hyperparameters to determine \"best\" settings.\n",
        "- Use a hold-out test set to evaluate model performance with \"best\" hyperparameter settings.\n",
        "- Rank the importance of features from the model evaluation, and select the best features for subsequent model development.\n",
        "- Repeat the model-building process, adding new features to the mix.\n"
      ]
    },
    {
      "cell_type": "code",
      "source": [
        "pip install catboost"
      ],
      "metadata": {
        "colab": {
          "base_uri": "https://localhost:8080/"
        },
        "id": "TeqEGS09W0CA",
        "outputId": "6f979e50-318a-469e-fcbc-5f7446d8b5ba"
      },
      "execution_count": 5,
      "outputs": [
        {
          "output_type": "stream",
          "name": "stdout",
          "text": [
            "Requirement already satisfied: catboost in /usr/local/lib/python3.12/dist-packages (1.2.8)\n",
            "Requirement already satisfied: graphviz in /usr/local/lib/python3.12/dist-packages (from catboost) (0.21)\n",
            "Requirement already satisfied: matplotlib in /usr/local/lib/python3.12/dist-packages (from catboost) (3.10.0)\n",
            "Requirement already satisfied: numpy<3.0,>=1.16.0 in /usr/local/lib/python3.12/dist-packages (from catboost) (2.0.2)\n",
            "Requirement already satisfied: pandas>=0.24 in /usr/local/lib/python3.12/dist-packages (from catboost) (2.2.2)\n",
            "Requirement already satisfied: scipy in /usr/local/lib/python3.12/dist-packages (from catboost) (1.16.1)\n",
            "Requirement already satisfied: plotly in /usr/local/lib/python3.12/dist-packages (from catboost) (5.24.1)\n",
            "Requirement already satisfied: six in /usr/local/lib/python3.12/dist-packages (from catboost) (1.17.0)\n",
            "Requirement already satisfied: python-dateutil>=2.8.2 in /usr/local/lib/python3.12/dist-packages (from pandas>=0.24->catboost) (2.9.0.post0)\n",
            "Requirement already satisfied: pytz>=2020.1 in /usr/local/lib/python3.12/dist-packages (from pandas>=0.24->catboost) (2025.2)\n",
            "Requirement already satisfied: tzdata>=2022.7 in /usr/local/lib/python3.12/dist-packages (from pandas>=0.24->catboost) (2025.2)\n",
            "Requirement already satisfied: contourpy>=1.0.1 in /usr/local/lib/python3.12/dist-packages (from matplotlib->catboost) (1.3.3)\n",
            "Requirement already satisfied: cycler>=0.10 in /usr/local/lib/python3.12/dist-packages (from matplotlib->catboost) (0.12.1)\n",
            "Requirement already satisfied: fonttools>=4.22.0 in /usr/local/lib/python3.12/dist-packages (from matplotlib->catboost) (4.59.1)\n",
            "Requirement already satisfied: kiwisolver>=1.3.1 in /usr/local/lib/python3.12/dist-packages (from matplotlib->catboost) (1.4.9)\n",
            "Requirement already satisfied: packaging>=20.0 in /usr/local/lib/python3.12/dist-packages (from matplotlib->catboost) (25.0)\n",
            "Requirement already satisfied: pillow>=8 in /usr/local/lib/python3.12/dist-packages (from matplotlib->catboost) (11.3.0)\n",
            "Requirement already satisfied: pyparsing>=2.3.1 in /usr/local/lib/python3.12/dist-packages (from matplotlib->catboost) (3.2.3)\n",
            "Requirement already satisfied: tenacity>=6.2.0 in /usr/local/lib/python3.12/dist-packages (from plotly->catboost) (8.5.0)\n"
          ]
        }
      ]
    },
    {
      "cell_type": "markdown",
      "metadata": {
        "tags": [],
        "id": "e1_8JI8YUUsM"
      },
      "source": [
        "### Import Libraries\n",
        "We draw on Python packages for data manipulation and modeling. Most important are Polars, a high-performance alternative to Pandas for data manipulation, and Scikit-Learn for machine learning study design and modeling algorithms."
      ]
    },
    {
      "cell_type": "code",
      "execution_count": 6,
      "metadata": {
        "scrolled": true,
        "id": "qPnPxE2RUUsM"
      },
      "outputs": [],
      "source": [
        "import os\n",
        "# Ignore warnings\n",
        "import warnings\n",
        "warnings.filterwarnings('ignore')\n",
        "warnings.simplefilter(action='ignore', category=FutureWarning)\n",
        "\n",
        "# datetime functions needed for filtering across DataFrames with differing time frame\n",
        "from datetime import datetime, timezone\n",
        "\n",
        "# Import Python Packages for data manipulation, data pipelines, and databases\n",
        "import numpy as np\n",
        "import pyarrow # foundation for polars\n",
        "import polars as pl # DataFrame work superior to Pandas\n",
        "\n",
        "# Plotting\n",
        "import matplotlib.pyplot as plt\n",
        "# Display static plots directly in the notebook output\n",
        "%matplotlib inline\n",
        "# create stylized visualizations, including heat maps\n",
        "import seaborn as sns\n",
        "\n",
        "# Preprocessing\n",
        "from sklearn.preprocessing import MinMaxScaler, StandardScaler\n",
        "from sklearn.pipeline import Pipeline\n",
        "from sklearn.model_selection import (RandomizedSearchCV,\n",
        "                                    TimeSeriesSplit)\n",
        "from sklearn.model_selection import cross_validate\n",
        "\n",
        "# utilized in all possible subsets classification work\n",
        "from sklearn.linear_model import LogisticRegression\n",
        "from sklearn.metrics import log_loss\n",
        "\n",
        "# needed for randomized search\n",
        "from sklearn.model_selection import RandomizedSearchCV\n",
        "from scipy.stats import randint, uniform\n",
        "\n",
        "# metrics in xgboost tuning and final model evaluation\n",
        "from sklearn.metrics import (accuracy_score,\n",
        "                             classification_report,\n",
        "                             roc_curve,\n",
        "                             roc_auc_score,\n",
        "                             RocCurveDisplay,\n",
        "                             ConfusionMatrixDisplay,\n",
        "                             confusion_matrix,\n",
        "                             precision_score,\n",
        "                             recall_score,\n",
        "                             f1_score\n",
        "                            )\n",
        "\n",
        "from sklearn.ensemble import AdaBoostClassifier\n",
        "\n",
        "from catboost import CatBoostClassifier\n",
        "\n",
        "# XGBoost Package... more complete than SciKit-Learn boosting methods\n",
        "import xgboost as xgb\n",
        "from xgboost import XGBRegressor, XGBClassifier, plot_importance\n",
        "\n",
        "from sklearn.ensemble import RandomForestClassifier\n",
        "\n",
        "import warnings\n",
        "# Suppress warnings for cleaner output\n",
        "warnings.filterwarnings('ignore')"
      ]
    },
    {
      "cell_type": "markdown",
      "metadata": {
        "id": "pCnBdEpUUUsN"
      },
      "source": [
        "### Retrieve Data\n",
        "In previous work, we retrieved price data for WTI and nine ETFs from Yahoo Finance. The code for WTI is shown in the next commented-out cell."
      ]
    },
    {
      "cell_type": "code",
      "execution_count": 7,
      "metadata": {
        "colab": {
          "base_uri": "https://localhost:8080/",
          "height": 53
        },
        "id": "zPb3QTQPUUsN",
        "outputId": "d9d368d0-52f1-4e04-a081-8b0a77c0938f"
      },
      "outputs": [
        {
          "output_type": "execute_result",
          "data": {
            "text/plain": [
              "'\\nPrevious work to retrieve data from Yahoo Finance had this structure for each of the ETFs in the study\\n\\nsymbol = \\'WTI\\'\\nstart_date = \\'2000-01-01\\'\\nend_date = \\'2025-08-19\\'\\n\\nticker = yf.Ticker(symbol)\\nhistorical_data = ticker.history(start = start_date, end = end_date, period = \\'1mo\\')\\nprint(historical_data)\\n\\nprint(\"type of historical_data\", type(historical_data))\\n\\nhistorical_data.to_csv(\"wti_daily_data.csv\")\\n'"
            ],
            "application/vnd.google.colaboratory.intrinsic+json": {
              "type": "string"
            }
          },
          "metadata": {},
          "execution_count": 7
        }
      ],
      "source": [
        "'''\n",
        "Previous work to retrieve data from Yahoo Finance had this structure for each of the ETFs in the study\n",
        "\n",
        "symbol = 'WTI'\n",
        "start_date = '2000-01-01'\n",
        "end_date = '2025-08-19'\n",
        "\n",
        "ticker = yf.Ticker(symbol)\n",
        "historical_data = ticker.history(start = start_date, end = end_date, period = '1mo')\n",
        "print(historical_data)\n",
        "\n",
        "print(\"type of historical_data\", type(historical_data))\n",
        "\n",
        "historical_data.to_csv(\"wti_daily_data.csv\")\n",
        "'''"
      ]
    },
    {
      "cell_type": "markdown",
      "metadata": {
        "id": "ZWlLfJJaUUsO"
      },
      "source": [
        "### Polars DataFrame Development\n",
        "The following code cell demonstrates Polars use with the time series DataFrame for our selected market/ticker, WTI."
      ]
    },
    {
      "cell_type": "code",
      "execution_count": 8,
      "metadata": {
        "colab": {
          "base_uri": "https://localhost:8080/"
        },
        "id": "6nCJEAT1UUsO",
        "outputId": "4c74b7e9-15c5-46a4-c594-82fb5853ea91"
      },
      "outputs": [
        {
          "output_type": "stream",
          "name": "stdout",
          "text": [
            "Schema({'Date': Datetime(time_unit='us', time_zone='UTC'), 'Open': Float64, 'High': Float64, 'Low': Float64, 'Close': Float64, 'Volume': Int64, 'Dividends': Float64, 'StockSplits': Float64})\n"
          ]
        }
      ],
      "source": [
        "wti = pl.read_csv(\"/content/wti_daily_data.csv\", try_parse_dates=True)\n",
        "\n",
        "# check the original schema\n",
        "print(wti.schema)\n",
        "\n",
        "# drop useless columns Dividends and StockSplits\n",
        "wti = wti.drop(['Dividends', 'StockSplits'])\n",
        "\n",
        "# create lag price features\n",
        "wti = wti.with_columns((pl.col('Close')).shift().alias('CloseLag1'))\n",
        "wti = wti.with_columns((pl.col('CloseLag1')).shift().alias('CloseLag2'))\n",
        "wti = wti.with_columns((pl.col('CloseLag2')).shift().alias('CloseLag3'))\n",
        "\n",
        "# create high-minus-low (HML) for day and its lags\n",
        "wti = wti.with_columns((pl.col('High') - pl.col('Low')).alias('HML'))\n",
        "wti = wti.with_columns((pl.col('HML')).shift().alias('HMLLag1'))\n",
        "wti = wti.with_columns((pl.col('HMLLag1')).shift().alias('HMLLag2'))\n",
        "wti = wti.with_columns((pl.col('HMLLag2')).shift().alias('HMLLag3'))\n",
        "\n",
        "# create a net change for the day as the open minus closing price OMC\n",
        "# also create the corresponding lag metrics\n",
        "wti = wti.with_columns((pl.col('Open') - pl.col('Close')).alias('OMC'))\n",
        "wti = wti.with_columns((pl.col('OMC')).shift().alias('OMCLag1'))\n",
        "wti = wti.with_columns((pl.col('OMCLag1')).shift().alias('OMCLag2'))\n",
        "wti = wti.with_columns((pl.col('OMCLag2')).shift().alias('OMCLag3'))\n",
        "\n",
        "# create volume lag metrics\n",
        "wti = wti.with_columns((pl.col('Volume')).shift().alias('VolumeLag1'))\n",
        "wti = wti.with_columns((pl.col('VolumeLag1')).shift().alias('VolumeLag2'))\n",
        "wti = wti.with_columns((pl.col('VolumeLag2')).shift().alias('VolumeLag3'))\n",
        "\n",
        "# compute 10-day exponential moving averages of closing prices\n",
        "# compute acround CloseLag1 to avoid any \"leakage\" in explanatory variable set\n",
        "# note also the 10-day buffer between train and test in time-series cross-validation\n",
        "wti = wti.with_columns((pl.col('CloseLag1').ewm_mean(half_life=1,ignore_nulls=True)).alias('CloseEMA2'))\n",
        "wti = wti.with_columns((pl.col('CloseLag1').ewm_mean(half_life=2,ignore_nulls=True)).alias('CloseEMA4'))\n",
        "wti = wti.with_columns((pl.col('CloseLag1').ewm_mean(half_life=4,ignore_nulls=True)).alias('CloseEMA8'))\n",
        "\n",
        "# log daily returns\n",
        "wti = wti.with_columns(np.log(pl.col('Close')/pl.col('CloseLag1')).alias('LogReturn'))\n",
        "\n",
        "# set volume features to Float64 for subsequent use in Numpy arrays\n",
        "wti = wti.with_columns(\n",
        "    pl.col('Volume').cast(pl.Float64).round(0),\n",
        "    pl.col('VolumeLag1').cast(pl.Float64).round(0),\n",
        "    pl.col('VolumeLag2').cast(pl.Float64).round(0),\n",
        "    pl.col('VolumeLag3').cast(pl.Float64).round(0),\n",
        "    )\n",
        "\n",
        "# round other features to three decimal places for reporting and subsequent analytics\n",
        "wti = wti.with_columns(\n",
        "    pl.col('Open').round(3),\n",
        "    pl.col('High').round(3),\n",
        "    pl.col('Low').round(3),\n",
        "    pl.col('Close').round(3),\n",
        "    pl.col('CloseLag1').round(3),\n",
        "    pl.col('CloseLag2').round(3),\n",
        "    pl.col('CloseLag3').round(3),\n",
        "    pl.col('HML').round(3),\n",
        "    pl.col('HMLLag1').round(3),\n",
        "    pl.col('HMLLag2').round(3),\n",
        "    pl.col('HMLLag3').round(3),\n",
        "    pl.col('OMC').round(3),\n",
        "    pl.col('OMCLag1').round(3),\n",
        "    pl.col('OMCLag2').round(3),\n",
        "    pl.col('OMCLag3').round(3),\n",
        "    pl.col('CloseEMA2').round(3),\n",
        "    pl.col('CloseEMA4').round(3),\n",
        "    pl.col('CloseEMA8').round(3))\n",
        "\n",
        "# no correction for class imbalance in this analysis\n",
        "# define binary target/response 1 = market price up since previous day, 0 = even or down\n",
        "wti = wti.with_columns(pl.when(pl.col('LogReturn')>0).then(pl.lit(1)).otherwise(pl.lit(0)).alias('Target'))\n",
        "\n",
        "# save to external comma-delimited text file for checking calculations in Excel\n",
        "wti.write_csv(\"wti-with-computed-features.csv\")"
      ]
    },
    {
      "cell_type": "markdown",
      "metadata": {
        "id": "gx10o3RUUUsO"
      },
      "source": [
        "### Descriptive Statistics for Price Features"
      ]
    },
    {
      "cell_type": "code",
      "execution_count": 9,
      "metadata": {
        "scrolled": true,
        "colab": {
          "base_uri": "https://localhost:8080/"
        },
        "id": "iaUgYws6UUsO",
        "outputId": "954ba2fa-3401-4311-dad1-5d07454eff4f"
      },
      "outputs": [
        {
          "output_type": "stream",
          "name": "stdout",
          "text": [
            "['statistic', 'Open', 'High', 'Low', 'Close', 'Volume', 'CloseLag1', 'CloseLag2', 'CloseLag3', 'HML', 'HMLLag1', 'HMLLag2', 'HMLLag3', 'OMC', 'OMCLag1', 'OMCLag2', 'OMCLag3', 'VolumeLag1', 'VolumeLag2', 'VolumeLag3', 'CloseEMA2', 'CloseEMA4', 'CloseEMA8', 'LogReturn', 'Target']\n",
            "Schema({'column': String, 'column_0': String, 'column_2': String, 'column_3': String, 'column_4': String, 'column_6': String, 'column_8': String})\n",
            "┌────────────┬──────────┬─────────────────────────┬─────────────────────┬─────────────────────┬───────────┬────────────────────┐\n",
            "│ column     ┆ column_0 ┆ column_2                ┆ column_3            ┆ column_4            ┆ column_6  ┆ column_8           │\n",
            "╞════════════╪══════════╪═════════════════════════╪═════════════════════╪═════════════════════╪═══════════╪════════════════════╡\n",
            "│ statistic  ┆ count    ┆ mean                    ┆ std                 ┆ min                 ┆ 50%       ┆ max                │\n",
            "│ Open       ┆ 5169.0   ┆ 9.888208357515962       ┆ 8.24379751138907    ┆ 1.105               ┆ 6.597     ┆ 44.596             │\n",
            "│ High       ┆ 5169.0   ┆ 10.104958405881215      ┆ 8.390030911332957   ┆ 1.145               ┆ 6.784     ┆ 44.626             │\n",
            "│ Low        ┆ 5169.0   ┆ 9.646586767266395       ┆ 8.068196720476314   ┆ 1.028               ┆ 6.4       ┆ 43.235             │\n",
            "│ Close      ┆ 5169.0   ┆ 9.871213774424453       ┆ 8.228563569925155   ┆ 1.047               ┆ 6.592     ┆ 44.172             │\n",
            "│ Volume     ┆ 5169.0   ┆ 1748263.726059199       ┆ 1829939.6046243927  ┆ 34700.0             ┆ 1177400.0 ┆ 40429700.0         │\n",
            "│ CloseLag1  ┆ 5169.0   ┆ 9.873441671503192       ┆ 8.22790431775934    ┆ 1.047               ┆ 6.592     ┆ 44.172             │\n",
            "│ CloseLag2  ┆ 5169.0   ┆ 9.87565660669375        ┆ 8.22725538628012    ┆ 1.047               ┆ 6.592     ┆ 44.172             │\n",
            "│ CloseLag3  ┆ 5169.0   ┆ 9.877919326755658       ┆ 8.226617508094625   ┆ 1.047               ┆ 6.592     ┆ 44.172             │\n",
            "│ HML        ┆ 5169.0   ┆ 0.4583662217063263      ┆ 0.43874669689562873 ┆ 0.029               ┆ 0.327     ┆ 4.129              │\n",
            "│ HMLLag1    ┆ 5169.0   ┆ 0.4583936931708261      ┆ 0.43872807289866955 ┆ 0.029               ┆ 0.327     ┆ 4.129              │\n",
            "│ HMLLag2    ┆ 5169.0   ┆ 0.45853685432385377     ┆ 0.43871551870478587 ┆ 0.029               ┆ 0.327     ┆ 4.129              │\n",
            "│ HMLLag3    ┆ 5169.0   ┆ 0.4587094215515574      ┆ 0.43873022336223927 ┆ 0.029               ┆ 0.327     ┆ 4.129              │\n",
            "│ OMC        ┆ 5169.0   ┆ 0.016985683884697237    ┆ 0.37995566715807194 ┆ -3.223              ┆ 0.01      ┆ 3.705              │\n",
            "│ OMCLag1    ┆ 5169.0   ┆ 0.016974656606693762    ┆ 0.3799555359557333  ┆ -3.223              ┆ 0.01      ┆ 3.705              │\n",
            "│ OMCLag2    ┆ 5169.0   ┆ 0.01702050686786613     ┆ 0.3799653728485099  ┆ -3.223              ┆ 0.01      ┆ 3.705              │\n",
            "│ OMCLag3    ┆ 5169.0   ┆ 0.01715302766492551     ┆ 0.3800928215711145  ┆ -3.223              ┆ 0.01      ┆ 3.705              │\n",
            "│ VolumeLag1 ┆ 5169.0   ┆ 1748148.5974076223      ┆ 1829989.5770774593  ┆ 34700.0             ┆ 1176900.0 ┆ 40429700.0         │\n",
            "│ VolumeLag2 ┆ 5169.0   ┆ 1748359.3538402012      ┆ 1829930.1201336666  ┆ 34700.0             ┆ 1177400.0 ┆ 40429700.0         │\n",
            "│ VolumeLag3 ┆ 5169.0   ┆ 1750131.4954536662      ┆ 1833301.7931244925  ┆ 34700.0             ┆ 1178000.0 ┆ 40429700.0         │\n",
            "│ CloseEMA2  ┆ 5169.0   ┆ 9.875673437802282       ┆ 8.219729461746063   ┆ 1.111               ┆ 6.614     ┆ 43.432             │\n",
            "│ CloseEMA4  ┆ 5169.0   ┆ 9.878829560843492       ┆ 8.210186049750966   ┆ 1.136               ┆ 6.624     ┆ 43.018             │\n",
            "│ CloseEMA8  ┆ 5169.0   ┆ 9.885304314180692       ┆ 8.190856957522218   ┆ 1.157               ┆ 6.649     ┆ 42.696             │\n",
            "│ LogReturn  ┆ 5169.0   ┆ -0.00039874914065335176 ┆ 0.04178042201340917 ┆ -0.2644790687687591 ┆ 0.0       ┆ 0.3488180995786815 │\n",
            "│ Target     ┆ 5169.0   ┆ 0.4778487134842329      ┆ 0.4995574042820073  ┆ 0.0                 ┆ 0.0       ┆ 1.0                │\n",
            "└────────────┴──────────┴─────────────────────────┴─────────────────────┴─────────────────────┴───────────┴────────────────────┘\n"
          ]
        }
      ],
      "source": [
        "# Drop the rows with null values such as the initial lag rows\n",
        "wti = wti.drop_nulls()\n",
        "\n",
        "# Descriptive statistics\n",
        "wtiStatistics = wti.drop('Date').describe()\n",
        "\n",
        "print(wtiStatistics.columns)\n",
        "\n",
        "wtiStatisticsToPrint = wtiStatistics.transpose(include_header=True).drop(['column_1', 'column_5', 'column_7'])\n",
        "\n",
        "print(wtiStatisticsToPrint.schema)\n",
        "\n",
        "with pl.Config(\n",
        "    tbl_rows = 60,\n",
        "    tbl_width_chars = 200,\n",
        "    tbl_cols = -1,\n",
        "    float_precision = 3,\n",
        "    tbl_hide_dataframe_shape = True,\n",
        "    tbl_hide_column_data_types = True):\n",
        "    print(wtiStatisticsToPrint)\n",
        "\n"
      ]
    },
    {
      "cell_type": "markdown",
      "metadata": {
        "id": "zx8yqKLjUUsP"
      },
      "source": [
        "### Base Feature List Defined on WTI Pricing Alone\n",
        "Features or explanatory variables, also known as an independent variables, are used to predict the values of target variables. The initial list of featrues includes the price-based features defined above, everything except the continuous response **LogReturn** if we wanted to employ regression and the binary response **Target** for classification, which is the focus of this project. This complete feature list is used in evaluating all methods.\n",
        "\n",
        "We retain Date and Target at this point... Date is needed to select across WTI and the many ETFs. Target is needed as the response in training. These will be dropped from the training features set later."
      ]
    },
    {
      "cell_type": "code",
      "execution_count": 10,
      "metadata": {
        "colab": {
          "base_uri": "https://localhost:8080/",
          "height": 255
        },
        "id": "h_k1lrxFUUsP",
        "outputId": "b2963ad0-0d0c-420c-977e-328d822ce6cf"
      },
      "outputs": [
        {
          "output_type": "execute_result",
          "data": {
            "text/plain": [
              "shape: (5, 17)\n",
              "┌─────────────┬───────────┬───────────┬───────────┬───┬───────────┬───────────┬───────────┬────────┐\n",
              "│ Date        ┆ CloseLag1 ┆ CloseLag2 ┆ CloseLag3 ┆ … ┆ CloseEMA2 ┆ CloseEMA4 ┆ CloseEMA8 ┆ Target │\n",
              "│ ---         ┆ ---       ┆ ---       ┆ ---       ┆   ┆ ---       ┆ ---       ┆ ---       ┆ ---    │\n",
              "│ datetime[μs ┆ f64       ┆ f64       ┆ f64       ┆   ┆ f64       ┆ f64       ┆ f64       ┆ i32    │\n",
              "│ , UTC]      ┆           ┆           ┆           ┆   ┆           ┆           ┆           ┆        │\n",
              "╞═════════════╪═══════════╪═══════════╪═══════════╪═══╪═══════════╪═══════════╪═══════════╪════════╡\n",
              "│ 2005-02-02  ┆ 13.196    ┆ 13.189    ┆ 13.406    ┆ … ┆ 13.224    ┆ 13.241    ┆ 13.252    ┆ 0      │\n",
              "│ 05:00:00    ┆           ┆           ┆           ┆   ┆           ┆           ┆           ┆        │\n",
              "│ UTC         ┆           ┆           ┆           ┆   ┆           ┆           ┆           ┆        │\n",
              "│ 2005-02-03  ┆ 13.196    ┆ 13.196    ┆ 13.189    ┆ … ┆ 13.209    ┆ 13.224    ┆ 13.234    ┆ 1      │\n",
              "│ 05:00:00    ┆           ┆           ┆           ┆   ┆           ┆           ┆           ┆        │\n",
              "│ UTC         ┆           ┆           ┆           ┆   ┆           ┆           ┆           ┆        │\n",
              "│ 2005-02-04  ┆ 13.225    ┆ 13.196    ┆ 13.196    ┆ … ┆ 13.217    ┆ 13.224    ┆ 13.232    ┆ 0      │\n",
              "│ 05:00:00    ┆           ┆           ┆           ┆   ┆           ┆           ┆           ┆        │\n",
              "│ UTC         ┆           ┆           ┆           ┆   ┆           ┆           ┆           ┆        │\n",
              "│ 2005-02-07  ┆ 13.189    ┆ 13.225    ┆ 13.196    ┆ … ┆ 13.203    ┆ 13.212    ┆ 13.221    ┆ 1      │\n",
              "│ 05:00:00    ┆           ┆           ┆           ┆   ┆           ┆           ┆           ┆        │\n",
              "│ UTC         ┆           ┆           ┆           ┆   ┆           ┆           ┆           ┆        │\n",
              "│ 2005-02-08  ┆ 13.218    ┆ 13.189    ┆ 13.225    ┆ … ┆ 13.211    ┆ 13.214    ┆ 13.221    ┆ 0      │\n",
              "│ 05:00:00    ┆           ┆           ┆           ┆   ┆           ┆           ┆           ┆        │\n",
              "│ UTC         ┆           ┆           ┆           ┆   ┆           ┆           ┆           ┆        │\n",
              "└─────────────┴───────────┴───────────┴───────────┴───┴───────────┴───────────┴───────────┴────────┘"
            ],
            "text/html": [
              "<div><style>\n",
              ".dataframe > thead > tr,\n",
              ".dataframe > tbody > tr {\n",
              "  text-align: right;\n",
              "  white-space: pre-wrap;\n",
              "}\n",
              "</style>\n",
              "<small>shape: (5, 17)</small><table border=\"1\" class=\"dataframe\"><thead><tr><th>Date</th><th>CloseLag1</th><th>CloseLag2</th><th>CloseLag3</th><th>HMLLag1</th><th>HMLLag2</th><th>HMLLag3</th><th>OMCLag1</th><th>OMCLag2</th><th>OMCLag3</th><th>VolumeLag1</th><th>VolumeLag2</th><th>VolumeLag3</th><th>CloseEMA2</th><th>CloseEMA4</th><th>CloseEMA8</th><th>Target</th></tr><tr><td>datetime[μs, UTC]</td><td>f64</td><td>f64</td><td>f64</td><td>f64</td><td>f64</td><td>f64</td><td>f64</td><td>f64</td><td>f64</td><td>f64</td><td>f64</td><td>f64</td><td>f64</td><td>f64</td><td>f64</td><td>i32</td></tr></thead><tbody><tr><td>2005-02-02 05:00:00 UTC</td><td>13.196</td><td>13.189</td><td>13.406</td><td>0.232</td><td>0.79</td><td>0.942</td><td>-0.007</td><td>0.217</td><td>0.725</td><td>656500.0</td><td>1.7768e6</td><td>9.8135e6</td><td>13.224</td><td>13.241</td><td>13.252</td><td>0</td></tr><tr><td>2005-02-03 05:00:00 UTC</td><td>13.196</td><td>13.196</td><td>13.189</td><td>0.152</td><td>0.232</td><td>0.79</td><td>0.029</td><td>-0.007</td><td>0.217</td><td>265300.0</td><td>656500.0</td><td>1.7768e6</td><td>13.209</td><td>13.224</td><td>13.234</td><td>1</td></tr><tr><td>2005-02-04 05:00:00 UTC</td><td>13.225</td><td>13.196</td><td>13.196</td><td>0.087</td><td>0.152</td><td>0.232</td><td>0.0</td><td>0.029</td><td>-0.007</td><td>303200.0</td><td>265300.0</td><td>656500.0</td><td>13.217</td><td>13.224</td><td>13.232</td><td>0</td></tr><tr><td>2005-02-07 05:00:00 UTC</td><td>13.189</td><td>13.225</td><td>13.196</td><td>0.275</td><td>0.087</td><td>0.152</td><td>0.072</td><td>0.0</td><td>0.029</td><td>361100.0</td><td>303200.0</td><td>265300.0</td><td>13.203</td><td>13.212</td><td>13.221</td><td>1</td></tr><tr><td>2005-02-08 05:00:00 UTC</td><td>13.218</td><td>13.189</td><td>13.225</td><td>0.196</td><td>0.275</td><td>0.087</td><td>0.152</td><td>0.072</td><td>0.0</td><td>161900.0</td><td>361100.0</td><td>303200.0</td><td>13.211</td><td>13.214</td><td>13.221</td><td>0</td></tr></tbody></table></div>"
            ]
          },
          "metadata": {},
          "execution_count": 10
        }
      ],
      "source": [
        "# Select Features for the Model, exclude current day price variables ... no \"leakage\"\n",
        "# note for moving averages, we have excluded the current day, and provide a 10-day gap\n",
        "# so these may be included in the set\n",
        "wti = wti.drop(['LogReturn', 'Open', 'High', 'Low', 'Close', 'Volume', 'HML', 'OMC'])\n",
        "wti.head()"
      ]
    },
    {
      "cell_type": "markdown",
      "metadata": {
        "id": "E6FnOz4nUUsP"
      },
      "source": [
        "### Read Data for Nine Exchange Traded Funds\n",
        "The following code cells read data from nine exchange-traded funds (ETFs) selected to cover a wide range of asset classes. All of these funds have about a billion or more assets under management (AUM). We note the range of dates covered in each ETF DataFrame. Later we will ensure that the same date ranges are covered by WTI and the nine ETFs. Beginning dates vary, but all time series end on August 19, 2025.\n",
        "\n",
        "For each selected ETF, we compute a variable named **Up** that is 1 if the price of the ETF went up the previous day, zero if not."
      ]
    },
    {
      "cell_type": "code",
      "execution_count": 11,
      "metadata": {
        "colab": {
          "base_uri": "https://localhost:8080/"
        },
        "id": "CedlpGuJUUsP",
        "outputId": "955bd42f-9bb4-4942-d940-8be32c0f10f3"
      },
      "outputs": [
        {
          "output_type": "stream",
          "name": "stdout",
          "text": [
            "Schema({'Date': Datetime(time_unit='us', time_zone='UTC'), 'Open': Float64, 'High': Float64, 'Low': Float64, 'Close': Float64, 'Volume': Int64, 'CloseLag1': Float64, 'CloseLag2': Float64, 'CloseLag3': Float64, 'SPYUp': Int32})\n",
            "['statistic', 'Date', 'Open', 'High', 'Low', 'Close', 'Volume', 'CloseLag1', 'CloseLag2', 'CloseLag3', 'SPYUp']\n",
            "Schema({'column': String, 'column_0': String, 'column_2': String, 'column_3': String, 'column_4': String, 'column_6': String, 'column_8': String})\n",
            "┌───────────┬──────────┬─────────────────────────────────┬────────────────────┬───────────────────────────┬───────────────────────────┐\n",
            "│ column    ┆ column_0 ┆ column_2                        ┆ column_3           ┆ column_4                  ┆ column_8                  │\n",
            "╞═══════════╪══════════╪═════════════════════════════════╪════════════════════╪═══════════════════════════╪═══════════════════════════╡\n",
            "│ statistic ┆ count    ┆ mean                            ┆ std                ┆ min                       ┆ max                       │\n",
            "│ Date      ┆ 6443     ┆ 2012-10-27 10:02:23.038957+00:… ┆ null               ┆ 2000-01-06 05:00:00+00:00 ┆ 2025-08-19 04:00:00+00:00 │\n",
            "│ Open      ┆ 6443.0   ┆ 190.84177562264523              ┆ 144.03491704245963 ┆ 50.113057480959675        ┆ 645.989990234375          │\n",
            "│ High      ┆ 6443.0   ┆ 191.9425602292222               ┆ 144.76202065604605 ┆ 51.62493276253082         ┆ 646.1900024414062         │\n",
            "│ Low       ┆ 6443.0   ┆ 189.64284424643972              ┆ 143.23825371346996 ┆ 49.48618592302649         ┆ 642.6799926757812         │\n",
            "│ Close     ┆ 6443.0   ┆ 190.86519427360926              ┆ 144.0729257180938  ┆ 50.23106002807617         ┆ 644.9500122070312         │\n",
            "│ Volume    ┆ 6443.0   ┆ 105246829.24103679              ┆ 90179258.11351958  ┆ 1436600.0                 ┆ 871026300.0               │\n",
            "│ CloseLag1 ┆ 6443.0   ┆ 190.7796576560774               ┆ 143.96990607703697 ┆ 50.23106002807617         ┆ 644.9500122070312         │\n",
            "│ CloseLag2 ┆ 6443.0   ┆ 190.693554784244                ┆ 143.8650814393345  ┆ 50.23106002807617         ┆ 644.9500122070312         │\n",
            "│ CloseLag3 ┆ 6443.0   ┆ 190.60798944428566              ┆ 143.75967021298294 ┆ 50.23106002807617         ┆ 644.9500122070312         │\n",
            "│ SPYUp     ┆ 6443.0   ┆ 0.15598323762222568             ┆ 0.3628676119275996 ┆ 0.0                       ┆ 1.0                       │\n",
            "└───────────┴──────────┴─────────────────────────────────┴────────────────────┴───────────────────────────┴───────────────────────────┘\n",
            "shape: (5, 10)\n",
            "┌──────────────┬───────────┬───────────┬───────────┬───┬───────────┬───────────┬───────────┬───────┐\n",
            "│ Date         ┆ Open      ┆ High      ┆ Low       ┆ … ┆ CloseLag1 ┆ CloseLag2 ┆ CloseLag3 ┆ SPYUp │\n",
            "│ ---          ┆ ---       ┆ ---       ┆ ---       ┆   ┆ ---       ┆ ---       ┆ ---       ┆ ---   │\n",
            "│ datetime[μs, ┆ f64       ┆ f64       ┆ f64       ┆   ┆ f64       ┆ f64       ┆ f64       ┆ i32   │\n",
            "│ UTC]         ┆           ┆           ┆           ┆   ┆           ┆           ┆           ┆       │\n",
            "╞══════════════╪═══════════╪═══════════╪═══════════╪═══╪═══════════╪═══════════╪═══════════╪═══════╡\n",
            "│ 2000-01-06   ┆ 88.459986 ┆ 89.6479   ┆ 87.272072 ┆ … ┆ 88.697571 ┆ 88.539185 ┆ 92.142517 ┆ 0     │\n",
            "│ 05:00:00 UTC ┆           ┆           ┆           ┆   ┆           ┆           ┆           ┆       │\n",
            "│ 2000-01-07   ┆ 88.895594 ┆ 92.340546 ┆ 88.737205 ┆ … ┆ 87.272072 ┆ 88.697571 ┆ 88.539185 ┆ 0     │\n",
            "│ 05:00:00 UTC ┆           ┆           ┆           ┆   ┆           ┆           ┆           ┆       │\n",
            "│ 2000-01-10   ┆ 92.657303 ┆ 93.073073 ┆ 91.885159 ┆ … ┆ 92.340546 ┆ 87.272072 ┆ 88.697571 ┆ 0     │\n",
            "│ 05:00:00 UTC ┆           ┆           ┆           ┆   ┆           ┆           ┆           ┆       │\n",
            "│ 2000-01-11   ┆ 92.380116 ┆ 92.558303 ┆ 90.915022 ┆ … ┆ 92.657303 ┆ 92.340546 ┆ 87.272072 ┆ 0     │\n",
            "│ 05:00:00 UTC ┆           ┆           ┆           ┆   ┆           ┆           ┆           ┆       │\n",
            "│ 2000-01-12   ┆ 91.607947 ┆ 91.607947 ┆ 90.519026 ┆ … ┆ 91.548576 ┆ 92.657303 ┆ 92.340546 ┆ 0     │\n",
            "│ 05:00:00 UTC ┆           ┆           ┆           ┆   ┆           ┆           ┆           ┆       │\n",
            "└──────────────┴───────────┴───────────┴───────────┴───┴───────────┴───────────┴───────────┴───────┘\n"
          ]
        }
      ],
      "source": [
        "# work with SPY data\n",
        "spy = pl.read_csv(\"/content/spy_daily_data.csv\", try_parse_dates=True)\n",
        "\n",
        "# drop useless columns Dividends, StockSplits, and CapitalGains\n",
        "spy = spy.drop(['Dividends', 'StockSplits', 'CapitalGains'])\n",
        "\n",
        "spy = spy.with_columns((pl.col('Close')).shift().alias('CloseLag1'))\n",
        "spy = spy.with_columns((pl.col('CloseLag1')).shift().alias('CloseLag2'))\n",
        "spy = spy.with_columns((pl.col('CloseLag2')).shift().alias('CloseLag3'))\n",
        "spy = spy.with_columns(pl.when((pl.col(\"Close\") > pl.col(\"CloseLag1\")) & (pl.col(\"CloseLag1\") > pl.col(\"CloseLag2\")) & (pl.col(\"CloseLag2\") > pl.col(\"CloseLag3\"))).then(pl.lit(1)).otherwise(pl.lit(0)).alias('SPYUp'))\n",
        "# check the schema\n",
        "print(spy.schema)\n",
        "\n",
        "# Drop initial lag row\n",
        "spy = spy.drop_nulls()\n",
        "\n",
        "spyStatistics = spy.describe()\n",
        "print(spyStatistics.columns)\n",
        "spyStatisticsToPrint = spyStatistics.transpose(include_header=True).drop(['column_1', 'column_5', 'column_6', 'column_7'])\n",
        "print(wtiStatisticsToPrint.schema)\n",
        "with pl.Config(\n",
        "    tbl_rows = 60,\n",
        "    tbl_width_chars = 200,\n",
        "    tbl_cols = -1,\n",
        "    float_precision = 3,\n",
        "    tbl_hide_dataframe_shape = True,\n",
        "    tbl_hide_column_data_types = True):\n",
        "    print(spyStatisticsToPrint)\n",
        "\n",
        "# print a few records at the beginning of the DataFrame\n",
        "print(spy.head())"
      ]
    },
    {
      "cell_type": "code",
      "execution_count": 12,
      "metadata": {
        "colab": {
          "base_uri": "https://localhost:8080/"
        },
        "id": "hyuQPKjDUUsP",
        "outputId": "0dcd1bf1-9959-4dec-8a23-a5b9636731e4"
      },
      "outputs": [
        {
          "output_type": "stream",
          "name": "stdout",
          "text": [
            "Schema({'Date': Datetime(time_unit='us', time_zone='UTC'), 'Open': Float64, 'High': Float64, 'Low': Float64, 'Close': Float64, 'Volume': Int64, 'CloseLag1': Float64, 'CloseLag2': Float64, 'CloseLag3': Float64, 'gldUp': Int32})\n",
            "['statistic', 'Date', 'Open', 'High', 'Low', 'Close', 'Volume', 'CloseLag1', 'CloseLag2', 'CloseLag3', 'gldUp']\n",
            "Schema({'column': String, 'column_0': String, 'column_2': String, 'column_3': String, 'column_4': String, 'column_6': String, 'column_8': String})\n",
            "┌───────────┬──────────┬─────────────────────────────────┬─────────────────────┬───────────────────────────┬───────────────────────────┐\n",
            "│ column    ┆ column_0 ┆ column_2                        ┆ column_3            ┆ column_4                  ┆ column_8                  │\n",
            "╞═══════════╪══════════╪═════════════════════════════════╪═════════════════════╪═══════════════════════════╪═══════════════════════════╡\n",
            "│ statistic ┆ count    ┆ mean                            ┆ std                 ┆ min                       ┆ max                       │\n",
            "│ Date      ┆ 5217     ┆ 2015-04-05 04:03:38.056354+00:… ┆ null                ┆ 2004-11-23 05:00:00+00:00 ┆ 2025-08-19 04:00:00+00:00 │\n",
            "│ Open      ┆ 5217.0   ┆ 132.1579624627179               ┆ 51.51743063932354   ┆ 41.029998779296875        ┆ 317.489990234375          │\n",
            "│ High      ┆ 5217.0   ┆ 132.79000390103798              ┆ 51.693388263714574  ┆ 41.36000061035156         ┆ 317.6300048828125         │\n",
            "│ Low       ┆ 5217.0   ┆ 131.47466362091643              ┆ 51.308894401066944  ┆ 41.02000045776367         ┆ 315.0400085449219         │\n",
            "│ Close     ┆ 5217.0   ┆ 132.15912394846265              ┆ 51.5247074368411    ┆ 41.2599983215332          ┆ 316.2900085449219         │\n",
            "│ Volume    ┆ 5217.0   ┆ 9419584.358826913               ┆ 6644779.324014832   ┆ 319300.0                  ┆ 93804200.0                │\n",
            "│ CloseLag1 ┆ 5217.0   ┆ 132.10922554166743              ┆ 51.48306327610569   ┆ 41.2599983215332          ┆ 316.2900085449219         │\n",
            "│ CloseLag2 ┆ 5217.0   ┆ 132.05897252011715              ┆ 51.440302438984986  ┆ 41.2599983215332          ┆ 316.2900085449219         │\n",
            "│ CloseLag3 ┆ 5217.0   ┆ 132.00855082343176              ┆ 51.39727368841624   ┆ 41.2599983215332          ┆ 316.2900085449219         │\n",
            "│ gldUp     ┆ 5217.0   ┆ 0.13379336783592102             ┆ 0.34046280450589345 ┆ 0.0                       ┆ 1.0                       │\n",
            "└───────────┴──────────┴─────────────────────────────────┴─────────────────────┴───────────────────────────┴───────────────────────────┘\n",
            "shape: (5, 10)\n",
            "┌──────────────┬───────────┬───────────┬───────────┬───┬───────────┬───────────┬───────────┬───────┐\n",
            "│ Date         ┆ Open      ┆ High      ┆ Low       ┆ … ┆ CloseLag1 ┆ CloseLag2 ┆ CloseLag3 ┆ gldUp │\n",
            "│ ---          ┆ ---       ┆ ---       ┆ ---       ┆   ┆ ---       ┆ ---       ┆ ---       ┆ ---   │\n",
            "│ datetime[μs, ┆ f64       ┆ f64       ┆ f64       ┆   ┆ f64       ┆ f64       ┆ f64       ┆ i32   │\n",
            "│ UTC]         ┆           ┆           ┆           ┆   ┆           ┆           ┆           ┆       │\n",
            "╞══════════════╪═══════════╪═══════════╪═══════════╪═══╪═══════════╪═══════════╪═══════════╪═══════╡\n",
            "│ 2004-11-23   ┆ 44.880001 ┆ 44.919998 ┆ 44.720001 ┆ … ┆ 44.950001 ┆ 44.779999 ┆ 44.380001 ┆ 0     │\n",
            "│ 05:00:00 UTC ┆           ┆           ┆           ┆   ┆           ┆           ┆           ┆       │\n",
            "│ 2004-11-24   ┆ 44.93     ┆ 45.049999 ┆ 44.790001 ┆ … ┆ 44.75     ┆ 44.950001 ┆ 44.779999 ┆ 0     │\n",
            "│ 05:00:00 UTC ┆           ┆           ┆           ┆   ┆           ┆           ┆           ┆       │\n",
            "│ 2004-11-26   ┆ 45.25     ┆ 45.599998 ┆ 45.060001 ┆ … ┆ 45.049999 ┆ 44.75     ┆ 44.950001 ┆ 0     │\n",
            "│ 05:00:00 UTC ┆           ┆           ┆           ┆   ┆           ┆           ┆           ┆       │\n",
            "│ 2004-11-29   ┆ 45.099998 ┆ 45.5      ┆ 45.080002 ┆ … ┆ 45.290001 ┆ 45.049999 ┆ 44.75     ┆ 1     │\n",
            "│ 05:00:00 UTC ┆           ┆           ┆           ┆   ┆           ┆           ┆           ┆       │\n",
            "│ 2004-11-30   ┆ 45.369999 ┆ 45.41     ┆ 44.82     ┆ … ┆ 45.400002 ┆ 45.290001 ┆ 45.049999 ┆ 0     │\n",
            "│ 05:00:00 UTC ┆           ┆           ┆           ┆   ┆           ┆           ┆           ┆       │\n",
            "└──────────────┴───────────┴───────────┴───────────┴───┴───────────┴───────────┴───────────┴───────┘\n"
          ]
        }
      ],
      "source": [
        "# work with GLD data\n",
        "gld = pl.read_csv(\"/content/gld_daily_data.csv\", try_parse_dates=True)\n",
        "\n",
        "# drop useless columns Dividends, StockSplits, and CapitalGains\n",
        "gld = gld.drop(['Dividends', 'StockSplits', 'CapitalGains'])\n",
        "\n",
        "gld = gld.with_columns((pl.col('Close')).shift().alias('CloseLag1'))\n",
        "gld = gld.with_columns((pl.col('CloseLag1')).shift().alias('CloseLag2'))\n",
        "gld = gld.with_columns((pl.col('CloseLag2')).shift().alias('CloseLag3'))\n",
        "gld = gld.with_columns(pl.when((pl.col(\"Close\") > pl.col(\"CloseLag1\")) & (pl.col(\"CloseLag1\") > pl.col(\"CloseLag2\")) & (pl.col(\"CloseLag2\") > pl.col(\"CloseLag3\"))).then(pl.lit(1)).otherwise(pl.lit(0)).alias('gldUp'))\n",
        "# check the schema\n",
        "print(gld.schema)\n",
        "\n",
        "# Drop initial lag row\n",
        "gld = gld.drop_nulls()\n",
        "\n",
        "gldStatistics = gld.describe()\n",
        "print(gldStatistics.columns)\n",
        "gldStatisticsToPrint = gldStatistics.transpose(include_header=True).drop(['column_1', 'column_5', 'column_6', 'column_7'])\n",
        "print(wtiStatisticsToPrint.schema)\n",
        "with pl.Config(\n",
        "    tbl_rows = 60,\n",
        "    tbl_width_chars = 200,\n",
        "    tbl_cols = -1,\n",
        "    float_precision = 3,\n",
        "    tbl_hide_dataframe_shape = True,\n",
        "    tbl_hide_column_data_types = True):\n",
        "    print(gldStatisticsToPrint)\n",
        "\n",
        "# print a few records at the beginning of the DataFrame\n",
        "print(gld.head())"
      ]
    },
    {
      "cell_type": "code",
      "execution_count": 13,
      "metadata": {
        "colab": {
          "base_uri": "https://localhost:8080/"
        },
        "id": "LByY2gSgUUsQ",
        "outputId": "eb1d0622-3789-4ec5-9806-90af7a4523e7"
      },
      "outputs": [
        {
          "output_type": "stream",
          "name": "stdout",
          "text": [
            "Schema({'Date': Datetime(time_unit='us', time_zone='UTC'), 'Open': Float64, 'High': Float64, 'Low': Float64, 'Close': Float64, 'Volume': Int64, 'CloseLag1': Float64, 'CloseLag2': Float64, 'CloseLag3': Float64, 'vgtUp': Int32})\n",
            "['statistic', 'Date', 'Open', 'High', 'Low', 'Close', 'Volume', 'CloseLag1', 'CloseLag2', 'CloseLag3', 'vgtUp']\n",
            "Schema({'column': String, 'column_0': String, 'column_2': String, 'column_3': String, 'column_4': String, 'column_6': String, 'column_8': String})\n",
            "┌───────────┬──────────┬─────────────────────────────────┬────────────────────┬───────────────────────────┬───────────────────────────┐\n",
            "│ column    ┆ column_0 ┆ column_2                        ┆ column_3           ┆ column_4                  ┆ column_8                  │\n",
            "╞═══════════╪══════════╪═════════════════════════════════╪════════════════════╪═══════════════════════════╪═══════════════════════════╡\n",
            "│ statistic ┆ count    ┆ mean                            ┆ std                ┆ min                       ┆ max                       │\n",
            "│ Date      ┆ 5420     ┆ 2014-11-08 22:04:40.295203+00:… ┆ null               ┆ 2004-02-04 05:00:00+00:00 ┆ 2025-08-19 04:00:00+00:00 │\n",
            "│ Open      ┆ 5420.0   ┆ 167.90993558524798              ┆ 165.8763927726928  ┆ 25.400250326119036        ┆ 710.0499877929688         │\n",
            "│ High      ┆ 5420.0   ┆ 169.17391183305722              ┆ 167.2057836635115  ┆ 26.273459632207647        ┆ 710.8800048828125         │\n",
            "│ Low       ┆ 5420.0   ┆ 166.49298234344255              ┆ 164.36471620323712 ┆ 24.68993342530967         ┆ 704.0                     │\n",
            "│ Close     ┆ 5420.0   ┆ 167.9240810573761               ┆ 165.89002616234825 ┆ 25.04936981201172         ┆ 707.2899780273438         │\n",
            "│ Volume    ┆ 5420.0   ┆ 360303.7453874539               ┆ 400841.1435112676  ┆ 0.0                       ┆ 6564500.0                 │\n",
            "│ CloseLag1 ┆ 5420.0   ┆ 167.80454834906377              ┆ 165.747981352755   ┆ 25.04936981201172         ┆ 707.2899780273438         │\n",
            "│ CloseLag2 ┆ 5420.0   ┆ 167.68261371732197              ┆ 165.59788878061605 ┆ 25.04936981201172         ┆ 707.2899780273438         │\n",
            "│ CloseLag3 ┆ 5420.0   ┆ 167.56104743894176              ┆ 165.4487828714875  ┆ 25.04936981201172         ┆ 707.2899780273438         │\n",
            "│ vgtUp     ┆ 5420.0   ┆ 0.17472324723247232             ┆ 0.379765247578405  ┆ 0.0                       ┆ 1.0                       │\n",
            "└───────────┴──────────┴─────────────────────────────────┴────────────────────┴───────────────────────────┴───────────────────────────┘\n",
            "shape: (5, 10)\n",
            "┌──────────────┬───────────┬───────────┬───────────┬───┬───────────┬───────────┬───────────┬───────┐\n",
            "│ Date         ┆ Open      ┆ High      ┆ Low       ┆ … ┆ CloseLag1 ┆ CloseLag2 ┆ CloseLag3 ┆ vgtUp │\n",
            "│ ---          ┆ ---       ┆ ---       ┆ ---       ┆   ┆ ---       ┆ ---       ┆ ---       ┆ ---   │\n",
            "│ datetime[μs, ┆ f64       ┆ f64       ┆ f64       ┆   ┆ f64       ┆ f64       ┆ f64       ┆ i32   │\n",
            "│ UTC]         ┆           ┆           ┆           ┆   ┆           ┆           ┆           ┆       │\n",
            "╞══════════════╪═══════════╪═══════════╪═══════════╪═══╪═══════════╪═══════════╪═══════════╪═══════╡\n",
            "│ 2004-02-04   ┆ 39.83571  ┆ 39.83571  ┆ 39.709911 ┆ … ┆ 40.942719 ┆ 41.194313 ┆ 41.160759 ┆ 0     │\n",
            "│ 05:00:00 UTC ┆           ┆           ┆           ┆   ┆           ┆           ┆           ┆       │\n",
            "│ 2004-02-05   ┆ 40.003442 ┆ 40.003442 ┆ 39.709913 ┆ … ┆ 39.709911 ┆ 40.942719 ┆ 41.194313 ┆ 0     │\n",
            "│ 05:00:00 UTC ┆           ┆           ┆           ┆   ┆           ┆           ┆           ┆       │\n",
            "│ 2004-02-06   ┆ 40.17116  ┆ 40.716278 ┆ 40.17116  ┆ … ┆ 39.91119  ┆ 39.709911 ┆ 40.942719 ┆ 0     │\n",
            "│ 05:00:00 UTC ┆           ┆           ┆           ┆   ┆           ┆           ┆           ┆       │\n",
            "│ 2004-02-09   ┆ 40.791757 ┆ 40.917555 ┆ 40.607254 ┆ … ┆ 40.716278 ┆ 39.91119  ┆ 39.709911 ┆ 0     │\n",
            "│ 05:00:00 UTC ┆           ┆           ┆           ┆   ┆           ┆           ┆           ┆       │\n",
            "│ 2004-02-10   ┆ 40.942732 ┆ 40.942732 ┆ 40.800163 ┆ … ┆ 40.674347 ┆ 40.716278 ┆ 39.91119  ┆ 0     │\n",
            "│ 05:00:00 UTC ┆           ┆           ┆           ┆   ┆           ┆           ┆           ┆       │\n",
            "└──────────────┴───────────┴───────────┴───────────┴───┴───────────┴───────────┴───────────┴───────┘\n"
          ]
        }
      ],
      "source": [
        "# work with VGT data\n",
        "vgt = pl.read_csv(\"/content/vgt_daily_data.csv\", try_parse_dates=True)\n",
        "\n",
        "# drop useless columns Dividends, StockSplits, and CapitalGains\n",
        "vgt = vgt.drop(['Dividends', 'StockSplits', 'CapitalGains'])\n",
        "\n",
        "\n",
        "vgt = vgt.with_columns((pl.col('Close')).shift().alias('CloseLag1'))\n",
        "vgt = vgt.with_columns((pl.col('CloseLag1')).shift().alias('CloseLag2'))\n",
        "vgt = vgt.with_columns((pl.col('CloseLag2')).shift().alias('CloseLag3'))\n",
        "vgt = vgt.with_columns(pl.when((pl.col(\"Close\") > pl.col(\"CloseLag1\")) & (pl.col(\"CloseLag1\") > pl.col(\"CloseLag2\")) & (pl.col(\"CloseLag2\") > pl.col(\"CloseLag3\"))).then(pl.lit(1)).otherwise(pl.lit(0)).alias('vgtUp'))\n",
        "# check the schema\n",
        "print(vgt.schema)\n",
        "\n",
        "# Drop initial lag row\n",
        "vgt = vgt.drop_nulls()\n",
        "\n",
        "vgtStatistics = vgt.describe()\n",
        "print(vgtStatistics.columns)\n",
        "vgtStatisticsToPrint = vgtStatistics.transpose(include_header=True).drop(['column_1', 'column_5', 'column_6', 'column_7'])\n",
        "print(wtiStatisticsToPrint.schema)\n",
        "with pl.Config(\n",
        "    tbl_rows = 60,\n",
        "    tbl_width_chars = 200,\n",
        "    tbl_cols = -1,\n",
        "    float_precision = 3,\n",
        "    tbl_hide_dataframe_shape = True,\n",
        "    tbl_hide_column_data_types = True):\n",
        "    print(vgtStatisticsToPrint)\n",
        "\n",
        "# print a few records at the beginning of the DataFrame\n",
        "print(vgt.head())"
      ]
    },
    {
      "cell_type": "code",
      "execution_count": 14,
      "metadata": {
        "colab": {
          "base_uri": "https://localhost:8080/"
        },
        "id": "RQTNPsVfUUsQ",
        "outputId": "b078c876-7423-4c7a-9777-5ea60459655f"
      },
      "outputs": [
        {
          "output_type": "stream",
          "name": "stdout",
          "text": [
            "Schema({'Date': Datetime(time_unit='us', time_zone='UTC'), 'Open': Float64, 'High': Float64, 'Low': Float64, 'Close': Float64, 'Volume': Int64, 'CloseLag1': Float64, 'CloseLag2': Float64, 'CloseLag3': Float64, 'vbUp': Int32})\n",
            "['statistic', 'Date', 'Open', 'High', 'Low', 'Close', 'Volume', 'CloseLag1', 'CloseLag2', 'CloseLag3', 'vbUp']\n",
            "Schema({'column': String, 'column_0': String, 'column_2': String, 'column_3': String, 'column_4': String, 'column_6': String, 'column_8': String})\n",
            "┌───────────┬──────────┬─────────────────────────────────┬────────────────────┬───────────────────────────┬───────────────────────────┐\n",
            "│ column    ┆ column_0 ┆ column_2                        ┆ column_3           ┆ column_4                  ┆ column_8                  │\n",
            "╞═══════════╪══════════╪═════════════════════════════════╪════════════════════╪═══════════════════════════╪═══════════════════════════╡\n",
            "│ statistic ┆ count    ┆ mean                            ┆ std                ┆ min                       ┆ max                       │\n",
            "│ Date      ┆ 5420     ┆ 2014-11-08 22:04:40.295203+00:… ┆ null               ┆ 2004-02-04 05:00:00+00:00 ┆ 2025-08-19 04:00:00+00:00 │\n",
            "│ Open      ┆ 5420.0   ┆ 106.91834367036958              ┆ 62.14350654186048  ┆ 23.633474085495507        ┆ 258.1815273395355         │\n",
            "│ High      ┆ 5420.0   ┆ 107.62108384628864              ┆ 62.544540405053674 ┆ 24.28031945289275         ┆ 260.4463040442688         │\n",
            "│ Low       ┆ 5420.0   ┆ 106.05680754817551              ┆ 61.67141791466784  ┆ 19.9520221629505          ┆ 257.5090323220884         │\n",
            "│ Close     ┆ 5420.0   ┆ 106.87943286015978              ┆ 62.112997090753844 ┆ 23.546703338623047        ┆ 258.69580078125           │\n",
            "│ Volume    ┆ 5420.0   ┆ 491429.889298893                ┆ 522996.3964952235  ┆ 200.0                     ┆ 9288100.0                 │\n",
            "│ CloseLag1 ┆ 5420.0   ┆ 106.84065770117559              ┆ 62.091596239496    ┆ 23.546703338623047        ┆ 258.69580078125           │\n",
            "│ CloseLag2 ┆ 5420.0   ┆ 106.80183558903937              ┆ 62.0699984656683   ┆ 23.546703338623047        ┆ 258.69580078125           │\n",
            "│ CloseLag3 ┆ 5420.0   ┆ 106.76308046214255              ┆ 62.04861142239727  ┆ 23.546703338623047        ┆ 258.69580078125           │\n",
            "│ vbUp      ┆ 5420.0   ┆ 0.1477859778597786              ┆ 0.3549204474708465 ┆ 0.0                       ┆ 1.0                       │\n",
            "└───────────┴──────────┴─────────────────────────────────┴────────────────────┴───────────────────────────┴───────────────────────────┘\n",
            "shape: (5, 10)\n",
            "┌───────────────┬───────────┬───────────┬───────────┬───┬───────────┬───────────┬───────────┬──────┐\n",
            "│ Date          ┆ Open      ┆ High      ┆ Low       ┆ … ┆ CloseLag1 ┆ CloseLag2 ┆ CloseLag3 ┆ vbUp │\n",
            "│ ---           ┆ ---       ┆ ---       ┆ ---       ┆   ┆ ---       ┆ ---       ┆ ---       ┆ ---  │\n",
            "│ datetime[μs,  ┆ f64       ┆ f64       ┆ f64       ┆   ┆ f64       ┆ f64       ┆ f64       ┆ i32  │\n",
            "│ UTC]          ┆           ┆           ┆           ┆   ┆           ┆           ┆           ┆      │\n",
            "╞═══════════════╪═══════════╪═══════════╪═══════════╪═══╪═══════════╪═══════════╪═══════════╪══════╡\n",
            "│ 2004-02-04    ┆ 35.872324 ┆ 35.872324 ┆ 35.299305 ┆ … ┆ 36.048645 ┆ 36.14415  ┆ 35.997215 ┆ 0    │\n",
            "│ 05:00:00 UTC  ┆           ┆           ┆           ┆   ┆           ┆           ┆           ┆      │\n",
            "│ 2004-02-05    ┆ 35.549099 ┆ 35.622565 ┆ 35.336054 ┆ … ┆ 35.299305 ┆ 36.048645 ┆ 36.14415  ┆ 0    │\n",
            "│ 05:00:00 UTC  ┆           ┆           ┆           ┆   ┆           ┆           ┆           ┆      │\n",
            "│ 2004-02-06    ┆ 35.615208 ┆ 36.254341 ┆ 35.615208 ┆ … ┆ 35.409519 ┆ 35.299305 ┆ 36.048645 ┆ 0    │\n",
            "│ 05:00:00 UTC  ┆           ┆           ┆           ┆   ┆           ┆           ┆           ┆      │\n",
            "│ 2004-02-09    ┆ 36.511441 ┆ 36.636328 ┆ 36.504093 ┆ … ┆ 36.254341 ┆ 35.409519 ┆ 35.299305 ┆ 1    │\n",
            "│ 05:00:00 UTC  ┆           ┆           ┆           ┆   ┆           ┆           ┆           ┆      │\n",
            "│ 2004-02-10    ┆ 36.474736 ┆ 36.70982  ┆ 36.438002 ┆ … ┆ 36.504093 ┆ 36.254341 ┆ 35.409519 ┆ 1    │\n",
            "│ 05:00:00 UTC  ┆           ┆           ┆           ┆   ┆           ┆           ┆           ┆      │\n",
            "└───────────────┴───────────┴───────────┴───────────┴───┴───────────┴───────────┴───────────┴──────┘\n"
          ]
        }
      ],
      "source": [
        "# work with VB data\n",
        "vb = pl.read_csv(\"/content/vb_daily_data.csv\", try_parse_dates=True)\n",
        "\n",
        "# drop useless columns Dividends, StockSplits, and CapitalGains\n",
        "vb = vb.drop(['Dividends', 'StockSplits', 'CapitalGains'])\n",
        "\n",
        "vb = vb.with_columns((pl.col('Close')).shift().alias('CloseLag1'))\n",
        "vb = vb.with_columns((pl.col('CloseLag1')).shift().alias('CloseLag2'))\n",
        "vb = vb.with_columns((pl.col('CloseLag2')).shift().alias('CloseLag3'))\n",
        "vb = vb.with_columns(pl.when((pl.col(\"Close\") > pl.col(\"CloseLag1\")) & (pl.col(\"CloseLag1\") > pl.col(\"CloseLag2\")) & (pl.col(\"CloseLag2\") > pl.col(\"CloseLag3\"))).then(pl.lit(1)).otherwise(pl.lit(0)).alias('vbUp'))\n",
        "# check the schema\n",
        "print(vb.schema)\n",
        "\n",
        "# Drop initial lag row\n",
        "vb = vb.drop_nulls()\n",
        "\n",
        "vbStatistics = vb.describe()\n",
        "print(vbStatistics.columns)\n",
        "vbStatisticsToPrint = vbStatistics.transpose(include_header=True).drop(['column_1', 'column_5', 'column_6', 'column_7'])\n",
        "print(wtiStatisticsToPrint.schema)\n",
        "with pl.Config(\n",
        "    tbl_rows = 60,\n",
        "    tbl_width_chars = 200,\n",
        "    tbl_cols = -1,\n",
        "    float_precision = 3,\n",
        "    tbl_hide_dataframe_shape = True,\n",
        "    tbl_hide_column_data_types = True):\n",
        "    print(vbStatisticsToPrint)\n",
        "\n",
        "# print a few records at the beginning of the DataFrame\n",
        "print(vb.head())"
      ]
    },
    {
      "cell_type": "code",
      "execution_count": 15,
      "metadata": {
        "colab": {
          "base_uri": "https://localhost:8080/"
        },
        "id": "PXzGW441UUsQ",
        "outputId": "161350c0-435a-4013-8c27-c645452500ba"
      },
      "outputs": [
        {
          "output_type": "stream",
          "name": "stdout",
          "text": [
            "Schema({'Date': Datetime(time_unit='us', time_zone='UTC'), 'Open': Float64, 'High': Float64, 'Low': Float64, 'Close': Float64, 'Volume': Int64, 'CloseLag1': Float64, 'CloseLag2': Float64, 'CloseLag3': Float64, 'iveUp': Int32})\n",
            "['statistic', 'Date', 'Open', 'High', 'Low', 'Close', 'Volume', 'CloseLag1', 'CloseLag2', 'CloseLag3', 'iveUp']\n",
            "Schema({'column': String, 'column_0': String, 'column_2': String, 'column_3': String, 'column_4': String, 'column_6': String, 'column_8': String})\n",
            "┌───────────┬──────────┬─────────────────────────────────┬────────────────────┬───────────────────────────┬───────────────────────────┐\n",
            "│ column    ┆ column_0 ┆ column_2                        ┆ column_3           ┆ column_4                  ┆ column_8                  │\n",
            "╞═══════════╪══════════╪═════════════════════════════════╪════════════════════╪═══════════════════════════╪═══════════════════════════╡\n",
            "│ statistic ┆ count    ┆ mean                            ┆ std                ┆ min                       ┆ max                       │\n",
            "│ Date      ┆ 6342     ┆ 2013-01-08 18:11:54.096499+00:… ┆ null               ┆ 2000-06-01 04:00:00+00:00 ┆ 2025-08-19 04:00:00+00:00 │\n",
            "│ Open      ┆ 6342.0   ┆ 74.6719088509887                ┆ 46.12073523341686  ┆ 21.26051340242963         ┆ 203.21139722740784        │\n",
            "│ High      ┆ 6342.0   ┆ 75.06777465619754               ┆ 46.32338362819363  ┆ 22.014917670226524        ┆ 203.8427634546091         │\n",
            "│ Low       ┆ 6342.0   ┆ 74.22753770658582               ┆ 45.922946532802186 ┆ 20.797465831147417        ┆ 202.95489456330537        │\n",
            "│ Close     ┆ 6342.0   ┆ 74.67083125413686               ┆ 46.13079792943829  ┆ 21.3702449798584          ┆ 203.3889617919922         │\n",
            "│ Volume    ┆ 6342.0   ┆ 677729.5175023652               ┆ 792878.6432844268  ┆ 400.0                     ┆ 20403600.0                │\n",
            "│ CloseLag1 ┆ 6342.0   ┆ 74.64449370302111               ┆ 46.105845530786645 ┆ 21.3702449798584          ┆ 203.3889617919922         │\n",
            "│ CloseLag2 ┆ 6342.0   ┆ 74.61818294140188               ┆ 46.081087037509675 ┆ 21.3702449798584          ┆ 203.3889617919922         │\n",
            "│ CloseLag3 ┆ 6342.0   ┆ 74.59175703932306               ┆ 46.05628067654368  ┆ 21.3702449798584          ┆ 203.3889617919922         │\n",
            "│ iveUp     ┆ 6342.0   ┆ 0.14427625354777673             ┆ 0.351397334113816  ┆ 0.0                       ┆ 1.0                       │\n",
            "└───────────┴──────────┴─────────────────────────────────┴────────────────────┴───────────────────────────┴───────────────────────────┘\n",
            "shape: (5, 10)\n",
            "┌──────────────┬───────────┬───────────┬───────────┬───┬───────────┬───────────┬───────────┬───────┐\n",
            "│ Date         ┆ Open      ┆ High      ┆ Low       ┆ … ┆ CloseLag1 ┆ CloseLag2 ┆ CloseLag3 ┆ iveUp │\n",
            "│ ---          ┆ ---       ┆ ---       ┆ ---       ┆   ┆ ---       ┆ ---       ┆ ---       ┆ ---   │\n",
            "│ datetime[μs, ┆ f64       ┆ f64       ┆ f64       ┆   ┆ f64       ┆ f64       ┆ f64       ┆ i32   │\n",
            "│ UTC]         ┆           ┆           ┆           ┆   ┆           ┆           ┆           ┆       │\n",
            "╞══════════════╪═══════════╪═══════════╪═══════════╪═══╪═══════════╪═══════════╪═══════════╪═══════╡\n",
            "│ 2000-06-01   ┆ 34.890046 ┆ 35.257782 ┆ 34.836231 ┆ … ┆ 34.827251 ┆ 34.567142 ┆ 34.046928 ┆ 1     │\n",
            "│ 04:00:00 UTC ┆           ┆           ┆           ┆   ┆           ┆           ┆           ┆       │\n",
            "│ 2000-06-02   ┆ 35.858717 ┆ 35.93047  ┆ 35.751087 ┆ … ┆ 35.257782 ┆ 34.827251 ┆ 34.567142 ┆ 1     │\n",
            "│ 04:00:00 UTC ┆           ┆           ┆           ┆   ┆           ┆           ┆           ┆       │\n",
            "│ 2000-06-05   ┆ 35.786959 ┆ 35.786959 ┆ 35.544792 ┆ … ┆ 35.751087 ┆ 35.257782 ┆ 34.827251 ┆ 0     │\n",
            "│ 04:00:00 UTC ┆           ┆           ┆           ┆   ┆           ┆           ┆           ┆       │\n",
            "│ 2000-06-06   ┆ 35.508916 ┆ 35.544792 ┆ 35.508916 ┆ … ┆ 35.589638 ┆ 35.751087 ┆ 35.257782 ┆ 0     │\n",
            "│ 04:00:00 UTC ┆           ┆           ┆           ┆   ┆           ┆           ┆           ┆       │\n",
            "│ 2000-06-07   ┆ 35.419224 ┆ 35.634484 ┆ 35.419224 ┆ … ┆ 35.544792 ┆ 35.589638 ┆ 35.751087 ┆ 0     │\n",
            "│ 04:00:00 UTC ┆           ┆           ┆           ┆   ┆           ┆           ┆           ┆       │\n",
            "└──────────────┴───────────┴───────────┴───────────┴───┴───────────┴───────────┴───────────┴───────┘\n"
          ]
        }
      ],
      "source": [
        "# work with IVE data\n",
        "ive = pl.read_csv(\"/content/ive_daily_data.csv\", try_parse_dates=True)\n",
        "\n",
        "# drop useless columns Dividends, StockSplits, and CapitalGains\n",
        "ive = ive.drop(['Dividends', 'StockSplits', 'CapitalGains'])\n",
        "\n",
        "ive = ive.with_columns((pl.col('Close')).shift().alias('CloseLag1'))\n",
        "ive = ive.with_columns((pl.col('CloseLag1')).shift().alias('CloseLag2'))\n",
        "ive = ive.with_columns((pl.col('CloseLag2')).shift().alias('CloseLag3'))\n",
        "ive = ive.with_columns(pl.when((pl.col(\"Close\") > pl.col(\"CloseLag1\")) & (pl.col(\"CloseLag1\") > pl.col(\"CloseLag2\")) & (pl.col(\"CloseLag2\") > pl.col(\"CloseLag3\"))).then(pl.lit(1)).otherwise(pl.lit(0)).alias('iveUp'))\n",
        "# check the schema\n",
        "print(ive.schema)\n",
        "\n",
        "# Drop initial lag row\n",
        "ive = ive.drop_nulls()\n",
        "\n",
        "iveStatistics = ive.describe()\n",
        "print(iveStatistics.columns)\n",
        "iveStatisticsToPrint = iveStatistics.transpose(include_header=True).drop(['column_1', 'column_5', 'column_6', 'column_7'])\n",
        "print(wtiStatisticsToPrint.schema)\n",
        "with pl.Config(\n",
        "    tbl_rows = 60,\n",
        "    tbl_width_chars = 200,\n",
        "    tbl_cols = -1,\n",
        "    float_precision = 3,\n",
        "    tbl_hide_dataframe_shape = True,\n",
        "    tbl_hide_column_data_types = True):\n",
        "    print(iveStatisticsToPrint)\n",
        "\n",
        "# print a few records at the beginning of the DataFrame\n",
        "print(ive.head())"
      ]
    },
    {
      "cell_type": "code",
      "execution_count": 16,
      "metadata": {
        "colab": {
          "base_uri": "https://localhost:8080/"
        },
        "id": "1M_XcJiKUUsR",
        "outputId": "84ba2852-2cb7-463c-e079-20ccca708bcc"
      },
      "outputs": [
        {
          "output_type": "stream",
          "name": "stdout",
          "text": [
            "Schema({'Date': Datetime(time_unit='us', time_zone='UTC'), 'Open': Float64, 'High': Float64, 'Low': Float64, 'Close': Float64, 'Volume': Int64, 'CloseLag1': Float64, 'CloseLag2': Float64, 'CloseLag3': Float64, 'xliUp': Int32})\n",
            "['statistic', 'Date', 'Open', 'High', 'Low', 'Close', 'Volume', 'CloseLag1', 'CloseLag2', 'CloseLag3', 'xliUp']\n",
            "Schema({'column': String, 'column_0': String, 'column_2': String, 'column_3': String, 'column_4': String, 'column_6': String, 'column_8': String})\n",
            "┌───────────┬──────────┬─────────────────────────────────┬─────────────────────┬───────────────────────────┬───────────────────────────┐\n",
            "│ column    ┆ column_0 ┆ column_2                        ┆ column_3            ┆ column_4                  ┆ column_8                  │\n",
            "╞═══════════╪══════════╪═════════════════════════════════╪═════════════════════╪═══════════════════════════╪═══════════════════════════╡\n",
            "│ statistic ┆ count    ┆ mean                            ┆ std                 ┆ min                       ┆ max                       │\n",
            "│ Date      ┆ 6443     ┆ 2012-10-27 10:02:23.038957+00:… ┆ null                ┆ 2000-01-06 05:00:00+00:00 ┆ 2025-08-19 04:00:00+00:00 │\n",
            "│ Open      ┆ 6443.0   ┆ 47.13885075201224               ┆ 33.75996241900431   ┆ 11.236274653018539        ┆ 155.07000732421875        │\n",
            "│ High      ┆ 6443.0   ┆ 47.44985465802048               ┆ 33.95807221766896   ┆ 11.497583816634966        ┆ 155.14999389648438        │\n",
            "│ Low       ┆ 6443.0   ┆ 46.80654225974114               ┆ 33.56000462951845   ┆ 10.989484954974614        ┆ 154.07000732421875        │\n",
            "│ Close     ┆ 6443.0   ┆ 47.14172263162469               ┆ 33.768123104521344  ┆ 11.149171829223633        ┆ 154.99000549316406        │\n",
            "│ Volume    ┆ 6443.0   ┆ 8558875.259972062               ┆ 7391871.749212428   ┆ 400.0                     ┆ 79118200.0                │\n",
            "│ CloseLag1 ┆ 6443.0   ┆ 47.12097440645892               ┆ 33.74513917179701   ┆ 11.149171829223633        ┆ 154.99000549316406        │\n",
            "│ CloseLag2 ┆ 6443.0   ┆ 47.100289684486896              ┆ 33.72227422918297   ┆ 11.149171829223633        ┆ 154.99000549316406        │\n",
            "│ CloseLag3 ┆ 6443.0   ┆ 47.07977484265378               ┆ 33.699595221842685  ┆ 11.149171829223633        ┆ 154.99000549316406        │\n",
            "│ xliUp     ┆ 6443.0   ┆ 0.14620518392053392             ┆ 0.35333922159588316 ┆ 0.0                       ┆ 1.0                       │\n",
            "└───────────┴──────────┴─────────────────────────────────┴─────────────────────┴───────────────────────────┴───────────────────────────┘\n",
            "shape: (5, 10)\n",
            "┌──────────────┬───────────┬───────────┬───────────┬───┬───────────┬───────────┬───────────┬───────┐\n",
            "│ Date         ┆ Open      ┆ High      ┆ Low       ┆ … ┆ CloseLag1 ┆ CloseLag2 ┆ CloseLag3 ┆ xliUp │\n",
            "│ ---          ┆ ---       ┆ ---       ┆ ---       ┆   ┆ ---       ┆ ---       ┆ ---       ┆ ---   │\n",
            "│ datetime[μs, ┆ f64       ┆ f64       ┆ f64       ┆   ┆ f64       ┆ f64       ┆ f64       ┆ i32   │\n",
            "│ UTC]         ┆           ┆           ┆           ┆   ┆           ┆           ┆           ┆       │\n",
            "╞══════════════╪═══════════╪═══════════╪═══════════╪═══╪═══════════╪═══════════╪═══════════╪═══════╡\n",
            "│ 2000-01-06   ┆ 17.679196 ┆ 17.9661   ┆ 17.609944 ┆ … ┆ 17.679186 ┆ 17.758335 ┆ 18.262877 ┆ 0     │\n",
            "│ 05:00:00 UTC ┆           ┆           ┆           ┆   ┆           ┆           ┆           ┆       │\n",
            "│ 2000-01-07   ┆ 18.124382 ┆ 18.599257 ┆ 18.124382 ┆ … ┆ 17.916634 ┆ 17.679186 ┆ 17.758335 ┆ 0     │\n",
            "│ 05:00:00 UTC ┆           ┆           ┆           ┆   ┆           ┆           ┆           ┆       │\n",
            "│ 2000-01-10   ┆ 18.698189 ┆ 18.757548 ┆ 18.539897 ┆ … ┆ 18.599257 ┆ 17.916634 ┆ 17.679186 ┆ 0     │\n",
            "│ 05:00:00 UTC ┆           ┆           ┆           ┆   ┆           ┆           ┆           ┆       │\n",
            "│ 2000-01-11   ┆ 18.658613 ┆ 18.658613 ┆ 18.361816 ┆ … ┆ 18.599257 ┆ 18.599257 ┆ 17.916634 ┆ 0     │\n",
            "│ 05:00:00 UTC ┆           ┆           ┆           ┆   ┆           ┆           ┆           ┆       │\n",
            "│ 2000-01-12   ┆ 18.312357 ┆ 18.312357 ┆ 18.144173 ┆ … ┆ 18.361816 ┆ 18.599257 ┆ 18.599257 ┆ 0     │\n",
            "│ 05:00:00 UTC ┆           ┆           ┆           ┆   ┆           ┆           ┆           ┆       │\n",
            "└──────────────┴───────────┴───────────┴───────────┴───┴───────────┴───────────┴───────────┴───────┘\n"
          ]
        }
      ],
      "source": [
        "# work with XLI data\n",
        "xli = pl.read_csv(\"/content/xli_daily_data.csv\", try_parse_dates=True)\n",
        "\n",
        "# drop useless columns Dividends, StockSplits, and CapitalGains\n",
        "xli = xli.drop(['Dividends', 'StockSplits', 'CapitalGains'])\n",
        "\n",
        "xli = xli.with_columns((pl.col('Close')).shift().alias('CloseLag1'))\n",
        "xli = xli.with_columns((pl.col('CloseLag1')).shift().alias('CloseLag2'))\n",
        "xli = xli.with_columns((pl.col('CloseLag2')).shift().alias('CloseLag3'))\n",
        "xli = xli.with_columns(pl.when((pl.col(\"Close\") > pl.col(\"CloseLag1\")) & (pl.col(\"CloseLag1\") > pl.col(\"CloseLag2\")) & (pl.col(\"CloseLag2\") > pl.col(\"CloseLag3\"))).then(pl.lit(1)).otherwise(pl.lit(0)).alias('xliUp'))\n",
        "# check the schema\n",
        "print(xli.schema)\n",
        "\n",
        "# Drop initial lag row\n",
        "xli = xli.drop_nulls()\n",
        "\n",
        "xliStatistics = xli.describe()\n",
        "print(xliStatistics.columns)\n",
        "xliStatisticsToPrint = xliStatistics.transpose(include_header=True).drop(['column_1', 'column_5', 'column_6', 'column_7'])\n",
        "print(wtiStatisticsToPrint.schema)\n",
        "with pl.Config(\n",
        "    tbl_rows = 60,\n",
        "    tbl_width_chars = 200,\n",
        "    tbl_cols = -1,\n",
        "    float_precision = 3,\n",
        "    tbl_hide_dataframe_shape = True,\n",
        "    tbl_hide_column_data_types = True):\n",
        "    print(xliStatisticsToPrint)\n",
        "\n",
        "# print a few records at the beginning of the DataFrame\n",
        "print(xli.head())"
      ]
    },
    {
      "cell_type": "code",
      "execution_count": 17,
      "metadata": {
        "colab": {
          "base_uri": "https://localhost:8080/"
        },
        "id": "upFi9iwvUUsR",
        "outputId": "ba7ae1ec-ca96-4d53-c852-4be7d30b138b"
      },
      "outputs": [
        {
          "output_type": "stream",
          "name": "stdout",
          "text": [
            "Schema({'Date': Datetime(time_unit='us', time_zone='UTC'), 'Open': Float64, 'High': Float64, 'Low': Float64, 'Close': Float64, 'Volume': Int64, 'CloseLag1': Float64, 'CloseLag2': Float64, 'CloseLag3': Float64, 'xluUp': Int32})\n",
            "['statistic', 'Date', 'Open', 'High', 'Low', 'Close', 'Volume', 'CloseLag1', 'CloseLag2', 'CloseLag3', 'xluUp']\n",
            "Schema({'column': String, 'column_0': String, 'column_2': String, 'column_3': String, 'column_4': String, 'column_6': String, 'column_8': String})\n",
            "┌───────────┬──────────┬─────────────────────────────────┬─────────────────────┬───────────────────────────┬───────────────────────────┐\n",
            "│ column    ┆ column_0 ┆ column_2                        ┆ column_3            ┆ column_4                  ┆ column_8                  │\n",
            "╞═══════════╪══════════╪═════════════════════════════════╪═════════════════════╪═══════════════════════════╪═══════════════════════════╡\n",
            "│ statistic ┆ count    ┆ mean                            ┆ std                 ┆ min                       ┆ max                       │\n",
            "│ Date      ┆ 6443     ┆ 2012-10-27 10:02:23.038957+00:… ┆ null                ┆ 2000-01-06 05:00:00+00:00 ┆ 2025-08-19 04:00:00+00:00 │\n",
            "│ Open      ┆ 6443.0   ┆ 31.89820650759864               ┆ 19.720848866380944  ┆ 6.889745684259615         ┆ 87.3499984741211          │\n",
            "│ High      ┆ 6443.0   ┆ 32.12712149746867               ┆ 19.861374155914547  ┆ 7.41416278528114          ┆ 87.66999816894531         │\n",
            "│ Low       ┆ 6443.0   ┆ 31.65386377273213               ┆ 19.572953070079205  ┆ 6.736037375918337         ┆ 86.12999725341797         │\n",
            "│ Close     ┆ 6443.0   ┆ 31.899292575152934              ┆ 19.726988699451717  ┆ 6.885226726531982         ┆ 87.31999969482422         │\n",
            "│ Volume    ┆ 6443.0   ┆ 8839064.30234363                ┆ 7372639.55004187    ┆ 3200.0                    ┆ 90263100.0                │\n",
            "│ CloseLag1 ┆ 6443.0   ┆ 31.88767028480292               ┆ 19.717119083917627  ┆ 6.885226726531982         ┆ 87.31999969482422         │\n",
            "│ CloseLag2 ┆ 6443.0   ┆ 31.87613403902612               ┆ 19.707634520323325  ┆ 6.885226726531982         ┆ 87.31999969482422         │\n",
            "│ CloseLag3 ┆ 6443.0   ┆ 31.864593091781476              ┆ 19.697926819788165  ┆ 6.885226726531982         ┆ 87.31999969482422         │\n",
            "│ xluUp     ┆ 6443.0   ┆ 0.14713642713021885             ┆ 0.35426935867704795 ┆ 0.0                       ┆ 1.0                       │\n",
            "└───────────┴──────────┴─────────────────────────────────┴─────────────────────┴───────────────────────────┴───────────────────────────┘\n",
            "shape: (5, 10)\n",
            "┌──────────────┬───────────┬───────────┬───────────┬───┬───────────┬───────────┬───────────┬───────┐\n",
            "│ Date         ┆ Open      ┆ High      ┆ Low       ┆ … ┆ CloseLag1 ┆ CloseLag2 ┆ CloseLag3 ┆ xluUp │\n",
            "│ ---          ┆ ---       ┆ ---       ┆ ---       ┆   ┆ ---       ┆ ---       ┆ ---       ┆ ---   │\n",
            "│ datetime[μs, ┆ f64       ┆ f64       ┆ f64       ┆   ┆ f64       ┆ f64       ┆ f64       ┆ i32   │\n",
            "│ UTC]         ┆           ┆           ┆           ┆   ┆           ┆           ┆           ┆       │\n",
            "╞══════════════╪═══════════╪═══════════╪═══════════╪═══╪═══════════╪═══════════╪═══════════╪═══════╡\n",
            "│ 2000-01-06   ┆ 11.178358 ┆ 11.178358 ┆ 11.050166 ┆ … ┆ 11.197585 ┆ 10.921968 ┆ 11.26168  ┆ 0     │\n",
            "│ 05:00:00 UTC ┆           ┆           ┆           ┆   ┆           ┆           ┆           ┆       │\n",
            "│ 2000-01-07   ┆ 11.197586 ┆ 11.274501 ┆ 11.146309 ┆ … ┆ 11.178358 ┆ 11.197585 ┆ 10.921968 ┆ 0     │\n",
            "│ 05:00:00 UTC ┆           ┆           ┆           ┆   ┆           ┆           ┆           ┆       │\n",
            "│ 2000-01-10   ┆ 11.268088 ┆ 11.345003 ┆ 11.248859 ┆ … ┆ 11.274501 ┆ 11.178358 ┆ 11.197585 ┆ 0     │\n",
            "│ 05:00:00 UTC ┆           ┆           ┆           ┆   ┆           ┆           ┆           ┆       │\n",
            "│ 2000-01-11   ┆ 11.261679 ┆ 11.261679 ┆ 11.107849 ┆ … ┆ 11.312955 ┆ 11.274501 ┆ 11.178358 ┆ 0     │\n",
            "│ 05:00:00 UTC ┆           ┆           ┆           ┆   ┆           ┆           ┆           ┆       │\n",
            "│ 2000-01-12   ┆ 11.018115 ┆ 11.165536 ┆ 11.018115 ┆ … ┆ 11.191174 ┆ 11.312955 ┆ 11.274501 ┆ 0     │\n",
            "│ 05:00:00 UTC ┆           ┆           ┆           ┆   ┆           ┆           ┆           ┆       │\n",
            "└──────────────┴───────────┴───────────┴───────────┴───┴───────────┴───────────┴───────────┴───────┘\n"
          ]
        }
      ],
      "source": [
        "# work with XLU data\n",
        "xlu = pl.read_csv(\"/content/xlu_daily_data.csv\", try_parse_dates=True)\n",
        "\n",
        "# drop useless columns Dividends, StockSplits, and CapitalGains\n",
        "xlu = xlu.drop(['Dividends', 'StockSplits', 'CapitalGains'])\n",
        "\n",
        "\n",
        "xlu = xlu.with_columns((pl.col('Close')).shift().alias('CloseLag1'))\n",
        "xlu = xlu.with_columns((pl.col('CloseLag1')).shift().alias('CloseLag2'))\n",
        "xlu = xlu.with_columns((pl.col('CloseLag2')).shift().alias('CloseLag3'))\n",
        "xlu = xlu.with_columns(pl.when((pl.col(\"Close\") > pl.col(\"CloseLag1\")) & (pl.col(\"CloseLag1\") > pl.col(\"CloseLag2\")) & (pl.col(\"CloseLag2\") > pl.col(\"CloseLag3\"))).then(pl.lit(1)).otherwise(pl.lit(0)).alias('xluUp'))\n",
        "# check the schema\n",
        "print(xlu.schema)\n",
        "\n",
        "# Drop initial lag row\n",
        "xlu = xlu.drop_nulls()\n",
        "\n",
        "xluStatistics = xlu.describe()\n",
        "print(xluStatistics.columns)\n",
        "xluStatisticsToPrint = xluStatistics.transpose(include_header=True).drop(['column_1', 'column_5', 'column_6', 'column_7'])\n",
        "print(wtiStatisticsToPrint.schema)\n",
        "with pl.Config(\n",
        "    tbl_rows = 60,\n",
        "    tbl_width_chars = 200,\n",
        "    tbl_cols = -1,\n",
        "    float_precision = 3,\n",
        "    tbl_hide_dataframe_shape = True,\n",
        "    tbl_hide_column_data_types = True):\n",
        "    print(xluStatisticsToPrint)\n",
        "\n",
        "# print a few records at the beginning of the DataFrame\n",
        "print(xlu.head())"
      ]
    },
    {
      "cell_type": "code",
      "execution_count": 18,
      "metadata": {
        "colab": {
          "base_uri": "https://localhost:8080/"
        },
        "id": "vI158NvrUUsR",
        "outputId": "a97e4f72-0497-4f59-8a7f-55296f9d332c"
      },
      "outputs": [
        {
          "output_type": "stream",
          "name": "stdout",
          "text": [
            "Schema({'Date': Datetime(time_unit='us', time_zone='UTC'), 'Open': Float64, 'High': Float64, 'Low': Float64, 'Close': Float64, 'Volume': Int64, 'CloseLag1': Float64, 'CloseLag2': Float64, 'CloseLag3': Float64, 'slvUp': Int32})\n",
            "['statistic', 'Date', 'Open', 'High', 'Low', 'Close', 'Volume', 'CloseLag1', 'CloseLag2', 'CloseLag3', 'slvUp']\n",
            "Schema({'column': String, 'column_0': String, 'column_2': String, 'column_3': String, 'column_4': String, 'column_6': String, 'column_8': String})\n",
            "┌───────────┬──────────┬─────────────────────────────────┬────────────────────┬───────────────────────────┬───────────────────────────┐\n",
            "│ column    ┆ column_0 ┆ column_2                        ┆ column_3           ┆ column_4                  ┆ column_8                  │\n",
            "╞═══════════╪══════════╪═════════════════════════════════╪════════════════════╪═══════════════════════════╪═══════════════════════════╡\n",
            "│ statistic ┆ count    ┆ mean                            ┆ std                ┆ min                       ┆ max                       │\n",
            "│ Date      ┆ 4855     ┆ 2015-12-23 19:37:34.912461+00:… ┆ null               ┆ 2006-05-03 04:00:00+00:00 ┆ 2025-08-19 04:00:00+00:00 │\n",
            "│ Open      ┆ 4855.0   ┆ 19.84764737601629               ┆ 6.488151778379614  ┆ 8.710000038146973         ┆ 47.619998931884766        │\n",
            "│ High      ┆ 4855.0   ┆ 20.022646757453895              ┆ 6.558830204397734  ┆ 9.050000190734863         ┆ 48.349998474121094        │\n",
            "│ Low       ┆ 4855.0   ┆ 19.65094335302634               ┆ 6.395885798699135  ┆ 8.449999809265137         ┆ 46.54999923706055         │\n",
            "│ Close     ┆ 4855.0   ┆ 19.84199669952864               ┆ 6.487509484355364  ┆ 8.850000381469727         ┆ 47.2599983215332          │\n",
            "│ Volume    ┆ 4855.0   ┆ 15421406.22039135               ┆ 16685126.375287618 ┆ 1039000.0                 ┆ 295400000.0               │\n",
            "│ CloseLag1 ┆ 4855.0   ┆ 19.837979191977503              ┆ 6.484859471116117  ┆ 8.850000381469727         ┆ 47.2599983215332          │\n",
            "│ CloseLag2 ┆ 4855.0   ┆ 19.83371966584949               ┆ 6.48198511797759   ┆ 8.850000381469727         ┆ 47.2599983215332          │\n",
            "│ CloseLag3 ┆ 4855.0   ┆ 19.82945849185869               ┆ 6.479141095955398  ┆ 8.850000381469727         ┆ 47.2599983215332          │\n",
            "│ slvUp     ┆ 4855.0   ┆ 0.12502574665293512             ┆ 0.3307821734424937 ┆ 0.0                       ┆ 1.0                       │\n",
            "└───────────┴──────────┴─────────────────────────────────┴────────────────────┴───────────────────────────┴───────────────────────────┘\n",
            "shape: (5, 10)\n",
            "┌───────────────────────┬────────┬────────┬────────┬───┬───────────┬───────────┬───────────┬───────┐\n",
            "│ Date                  ┆ Open   ┆ High   ┆ Low    ┆ … ┆ CloseLag1 ┆ CloseLag2 ┆ CloseLag3 ┆ slvUp │\n",
            "│ ---                   ┆ ---    ┆ ---    ┆ ---    ┆   ┆ ---       ┆ ---       ┆ ---       ┆ ---   │\n",
            "│ datetime[μs, UTC]     ┆ f64    ┆ f64    ┆ f64    ┆   ┆ f64       ┆ f64       ┆ f64       ┆ i32   │\n",
            "╞═══════════════════════╪════════╪════════╪════════╪═══╪═══════════╪═══════════╪═══════════╪═══════╡\n",
            "│ 2006-05-03 04:00:00   ┆ 14.45  ┆ 14.464 ┆ 13.413 ┆ … ┆ 14.365    ┆ 13.87     ┆ 13.812    ┆ 0     │\n",
            "│ UTC                   ┆        ┆        ┆        ┆   ┆           ┆           ┆           ┆       │\n",
            "│ 2006-05-04 04:00:00   ┆ 13.95  ┆ 14.287 ┆ 13.68  ┆ … ┆ 13.925    ┆ 14.365    ┆ 13.87     ┆ 0     │\n",
            "│ UTC                   ┆        ┆        ┆        ┆   ┆           ┆           ┆           ┆       │\n",
            "│ 2006-05-05 04:00:00   ┆ 14.0   ┆ 14.03  ┆ 13.75  ┆ … ┆ 14.0      ┆ 13.925    ┆ 14.365    ┆ 0     │\n",
            "│ UTC                   ┆        ┆        ┆        ┆   ┆           ┆           ┆           ┆       │\n",
            "│ 2006-05-08 04:00:00   ┆ 13.8   ┆ 14.0   ┆ 13.506 ┆ … ┆ 13.995    ┆ 14.0      ┆ 13.925    ┆ 0     │\n",
            "│ UTC                   ┆        ┆        ┆        ┆   ┆           ┆           ┆           ┆       │\n",
            "│ 2006-05-09 04:00:00   ┆ 14.098 ┆ 14.625 ┆ 14.06  ┆ … ┆ 14.0      ┆ 13.995    ┆ 14.0      ┆ 0     │\n",
            "│ UTC                   ┆        ┆        ┆        ┆   ┆           ┆           ┆           ┆       │\n",
            "└───────────────────────┴────────┴────────┴────────┴───┴───────────┴───────────┴───────────┴───────┘\n"
          ]
        }
      ],
      "source": [
        "# work with SLV data\n",
        "slv = pl.read_csv(\"/content/slv_daily_data.csv\", try_parse_dates=True)\n",
        "\n",
        "# drop useless columns Dividends, StockSplits, and CapitalGains\n",
        "slv = slv.drop(['Dividends', 'StockSplits', 'CapitalGains'])\n",
        "\n",
        "slv = slv.with_columns((pl.col('Close')).shift().alias('CloseLag1'))\n",
        "slv = slv.with_columns((pl.col('CloseLag1')).shift().alias('CloseLag2'))\n",
        "slv = slv.with_columns((pl.col('CloseLag2')).shift().alias('CloseLag3'))\n",
        "slv = slv.with_columns(pl.when((pl.col(\"Close\") > pl.col(\"CloseLag1\")) & (pl.col(\"CloseLag1\") > pl.col(\"CloseLag2\")) & (pl.col(\"CloseLag2\") > pl.col(\"CloseLag3\"))).then(pl.lit(1)).otherwise(pl.lit(0)).alias('slvUp'))\n",
        "# check the schema\n",
        "print(slv.schema)\n",
        "\n",
        "# Drop initial lag row\n",
        "slv = slv.drop_nulls()\n",
        "\n",
        "slvStatistics = slv.describe()\n",
        "print(slvStatistics.columns)\n",
        "slvStatisticsToPrint = slvStatistics.transpose(include_header=True).drop(['column_1', 'column_5', 'column_6', 'column_7'])\n",
        "print(wtiStatisticsToPrint.schema)\n",
        "with pl.Config(\n",
        "    tbl_rows = 60,\n",
        "    tbl_width_chars = 200,\n",
        "    tbl_cols = -1,\n",
        "    float_precision = 3,\n",
        "    tbl_hide_dataframe_shape = True,\n",
        "    tbl_hide_column_data_types = True):\n",
        "    print(slvStatisticsToPrint)\n",
        "\n",
        "# print a few records at the beginning of the DataFrame\n",
        "print(slv.head())"
      ]
    },
    {
      "cell_type": "code",
      "execution_count": 19,
      "metadata": {
        "colab": {
          "base_uri": "https://localhost:8080/"
        },
        "id": "0aS7jRnQUUsR",
        "outputId": "3db4328d-c543-474e-a20f-2f10985939d5"
      },
      "outputs": [
        {
          "output_type": "stream",
          "name": "stdout",
          "text": [
            "Schema({'Date': Datetime(time_unit='us', time_zone='UTC'), 'Open': Float64, 'High': Float64, 'Low': Float64, 'Close': Float64, 'Volume': Int64, 'CloseLag1': Float64, 'CloseLag2': Float64, 'CloseLag3': Float64, 'usoUp': Int32})\n",
            "['statistic', 'Date', 'Open', 'High', 'Low', 'Close', 'Volume', 'CloseLag1', 'CloseLag2', 'CloseLag3', 'usoUp']\n",
            "Schema({'column': String, 'column_0': String, 'column_2': String, 'column_3': String, 'column_4': String, 'column_6': String, 'column_8': String})\n",
            "┌───────────┬──────────┬─────────────────────────────────┬────────────────────┬───────────────────────────┬───────────────────────────┐\n",
            "│ column    ┆ column_0 ┆ column_2                        ┆ column_3           ┆ column_4                  ┆ column_8                  │\n",
            "╞═══════════╪══════════╪═════════════════════════════════╪════════════════════╪═══════════════════════════╪═══════════════════════════╡\n",
            "│ statistic ┆ count    ┆ mean                            ┆ std                ┆ min                       ┆ max                       │\n",
            "│ Date      ┆ 4868     ┆ 2015-12-14 09:17:07.937551+00:… ┆ null               ┆ 2006-04-13 04:00:00+00:00 ┆ 2025-08-19 04:00:00+00:00 │\n",
            "│ Open      ┆ 4868.0   ┆ 207.4927117093822               ┆ 172.07452843052542 ┆ 17.280000686645508        ┆ 952.6400146484375         │\n",
            "│ High      ┆ 4868.0   ┆ 209.8020768040208               ┆ 174.11185521164737 ┆ 18.0                      ┆ 953.3599853515625         │\n",
            "│ Low       ┆ 4868.0   ┆ 204.95703174642784              ┆ 169.72707463187723 ┆ 16.8799991607666          ┆ 932.0                     │\n",
            "│ Close     ┆ 4868.0   ┆ 207.4753429515497               ┆ 172.0397730282627  ┆ 17.040000915527344        ┆ 939.8400268554688         │\n",
            "│ Volume    ┆ 4868.0   ┆ 3013399.3465488907              ┆ 4036691.6575548784 ┆ 14888.0                   ┆ 124913013.0               │\n",
            "│ CloseLag1 ┆ 4868.0   ┆ 207.57197811335155              ┆ 172.09593796414202 ┆ 17.040000915527344        ┆ 939.8400268554688         │\n",
            "│ CloseLag2 ┆ 4868.0   ┆ 207.66902617773465              ┆ 172.1533270508048  ┆ 17.040000915527344        ┆ 939.8400268554688         │\n",
            "│ CloseLag3 ┆ 4868.0   ┆ 207.76585443781946              ┆ 172.2100036244772  ┆ 17.040000915527344        ┆ 939.8400268554688         │\n",
            "│ usoUp     ┆ 4868.0   ┆ 0.12818405916187345             ┆ 0.3343289809332752 ┆ 0.0                       ┆ 1.0                       │\n",
            "└───────────┴──────────┴─────────────────────────────────┴────────────────────┴───────────────────────────┴───────────────────────────┘\n",
            "shape: (5, 10)\n",
            "┌────────────┬────────────┬────────────┬───────────┬───┬───────────┬───────────┬───────────┬───────┐\n",
            "│ Date       ┆ Open       ┆ High       ┆ Low       ┆ … ┆ CloseLag1 ┆ CloseLag2 ┆ CloseLag3 ┆ usoUp │\n",
            "│ ---        ┆ ---        ┆ ---        ┆ ---       ┆   ┆ ---       ┆ ---       ┆ ---       ┆ ---   │\n",
            "│ datetime[μ ┆ f64        ┆ f64        ┆ f64       ┆   ┆ f64       ┆ f64       ┆ f64       ┆ i32   │\n",
            "│ s, UTC]    ┆            ┆            ┆           ┆   ┆           ┆           ┆           ┆       │\n",
            "╞════════════╪════════════╪════════════╪═══════════╪═══╪═══════════╪═══════════╪═══════════╪═══════╡\n",
            "│ 2006-04-13 ┆ 540.0      ┆ 551.919983 ┆ 539.20001 ┆ … ┆ 542.71997 ┆ 545.59997 ┆ 544.15997 ┆ 0     │\n",
            "│ 04:00:00   ┆            ┆            ┆ 2         ┆   ┆ 1         ┆ 6         ┆ 3         ┆       │\n",
            "│ UTC        ┆            ┆            ┆           ┆   ┆           ┆           ┆           ┆       │\n",
            "│ 2006-04-17 ┆ 553.599976 ┆ 559.200012 ┆ 549.44000 ┆ … ┆ 550.55999 ┆ 542.71997 ┆ 545.59997 ┆ 0     │\n",
            "│ 04:00:00   ┆            ┆            ┆ 2         ┆   ┆ 8         ┆ 1         ┆ 6         ┆       │\n",
            "│ UTC        ┆            ┆            ┆           ┆   ┆           ┆           ┆           ┆       │\n",
            "│ 2006-04-18 ┆ 560.799988 ┆ 568.400024 ┆ 556.55999 ┆ … ┆ 558.32000 ┆ 550.55999 ┆ 542.71997 ┆ 1     │\n",
            "│ 04:00:00   ┆            ┆            ┆ 8         ┆   ┆ 7         ┆ 8         ┆ 1         ┆       │\n",
            "│ UTC        ┆            ┆            ┆           ┆   ┆           ┆           ┆           ┆       │\n",
            "│ 2006-04-19 ┆ 564.640015 ┆ 577.280029 ┆ 563.91998 ┆ … ┆ 566.0     ┆ 558.32000 ┆ 550.55999 ┆ 1     │\n",
            "│ 04:00:00   ┆            ┆            ┆ 3         ┆   ┆           ┆ 7         ┆ 8         ┆       │\n",
            "│ UTC        ┆            ┆            ┆           ┆   ┆           ┆           ┆           ┆       │\n",
            "│ 2006-04-20 ┆ 575.359985 ┆ 577.280029 ┆ 564.08001 ┆ … ┆ 574.79998 ┆ 566.0     ┆ 558.32000 ┆ 0     │\n",
            "│ 04:00:00   ┆            ┆            ┆ 7         ┆   ┆ 8         ┆           ┆ 7         ┆       │\n",
            "│ UTC        ┆            ┆            ┆           ┆   ┆           ┆           ┆           ┆       │\n",
            "└────────────┴────────────┴────────────┴───────────┴───┴───────────┴───────────┴───────────┴───────┘\n"
          ]
        }
      ],
      "source": [
        "# work with USO data\n",
        "uso = pl.read_csv(\"/content/uso_daily_data.csv\", try_parse_dates=True)\n",
        "\n",
        "# drop useless columns Dividends, StockSplits, and CapitalGains\n",
        "uso = uso.drop(['Dividends', 'StockSplits', 'CapitalGains'])\n",
        "\n",
        "uso = uso.with_columns((pl.col('Close')).shift().alias('CloseLag1'))\n",
        "uso = uso.with_columns((pl.col('CloseLag1')).shift().alias('CloseLag2'))\n",
        "uso = uso.with_columns((pl.col('CloseLag2')).shift().alias('CloseLag3'))\n",
        "uso = uso.with_columns(pl.when((pl.col(\"Close\") > pl.col(\"CloseLag1\")) & (pl.col(\"CloseLag1\") > pl.col(\"CloseLag2\")) & (pl.col(\"CloseLag2\") > pl.col(\"CloseLag3\"))).then(pl.lit(1)).otherwise(pl.lit(0)).alias('usoUp'))\n",
        "# check the schema\n",
        "print(uso.schema)\n",
        "\n",
        "# Drop initial lag row\n",
        "uso = uso.drop_nulls()\n",
        "\n",
        "usoStatistics = uso.describe()\n",
        "print(usoStatistics.columns)\n",
        "usoStatisticsToPrint = usoStatistics.transpose(include_header=True).drop(['column_1', 'column_5', 'column_6', 'column_7'])\n",
        "print(wtiStatisticsToPrint.schema)\n",
        "with pl.Config(\n",
        "    tbl_rows = 60,\n",
        "    tbl_width_chars = 200,\n",
        "    tbl_cols = -1,\n",
        "    float_precision = 3,\n",
        "    tbl_hide_dataframe_shape = True,\n",
        "    tbl_hide_column_data_types = True):\n",
        "    print(usoStatisticsToPrint)\n",
        "\n",
        "# print a few records at the beginning of the DataFrame\n",
        "print(uso.head())"
      ]
    },
    {
      "cell_type": "code",
      "execution_count": 20,
      "metadata": {
        "colab": {
          "base_uri": "https://localhost:8080/"
        },
        "id": "XkFsmN65UUsR",
        "outputId": "654dceec-d8d1-4472-ce37-03fc91f9e90e"
      },
      "outputs": [
        {
          "output_type": "stream",
          "name": "stdout",
          "text": [
            "minimum Date on which to select, minDateAll: 2006-05-03 04:00:00+00:00\n"
          ]
        }
      ],
      "source": [
        "# Find earliest date that can be used across all DataFrames\n",
        "minDateAll = max(min(wti['Date']),min(spy['Date']),min(gld['Date']),\n",
        "                 min(vgt['Date']),min(vb['Date']),min(ive['Date']),\n",
        "                 min(xli['Date']),min(xlu['Date']),min(slv['Date']),min(uso['Date']))\n",
        "\n",
        "print(\"minimum Date on which to select, minDateAll:\", minDateAll)"
      ]
    },
    {
      "cell_type": "code",
      "execution_count": 21,
      "metadata": {
        "colab": {
          "base_uri": "https://localhost:8080/"
        },
        "id": "rWt3WZoLUUsS",
        "outputId": "8bdf97da-a885-418b-a6ba-40cbfa5a112c"
      },
      "outputs": [
        {
          "output_type": "stream",
          "name": "stdout",
          "text": [
            "maximum Date on which to select, axDateAll: 2025-08-19 04:00:00+00:00\n"
          ]
        }
      ],
      "source": [
        "# find latest date across all DataFrames\n",
        "\n",
        "maxDateAll = min(max(wti['Date']),max(spy['Date']),max(gld['Date']),\n",
        "                 max(vgt['Date']),max(vb['Date']),max(ive['Date']),\n",
        "                 max(xli['Date']),max(xlu['Date']),max(slv['Date']),max(uso['Date']))\n",
        "\n",
        "print(\"maximum Date on which to select, axDateAll:\", maxDateAll)\n"
      ]
    },
    {
      "cell_type": "code",
      "execution_count": 21,
      "metadata": {
        "id": "WhFXPJxMUUsS"
      },
      "outputs": [],
      "source": []
    },
    {
      "cell_type": "code",
      "execution_count": 22,
      "metadata": {
        "colab": {
          "base_uri": "https://localhost:8080/"
        },
        "id": "d8aAnI1SUUsS",
        "outputId": "e16e3381-7440-49ce-d4a0-5ee7ada17465"
      },
      "outputs": [
        {
          "output_type": "stream",
          "name": "stdout",
          "text": [
            "Beginning of wti training set\n",
            "shape: (5, 17)\n",
            "┌─────────────┬───────────┬───────────┬───────────┬───┬───────────┬───────────┬───────────┬────────┐\n",
            "│ Date        ┆ CloseLag1 ┆ CloseLag2 ┆ CloseLag3 ┆ … ┆ CloseEMA2 ┆ CloseEMA4 ┆ CloseEMA8 ┆ Target │\n",
            "│ ---         ┆ ---       ┆ ---       ┆ ---       ┆   ┆ ---       ┆ ---       ┆ ---       ┆ ---    │\n",
            "│ datetime[μs ┆ f64       ┆ f64       ┆ f64       ┆   ┆ f64       ┆ f64       ┆ f64       ┆ i32    │\n",
            "│ , UTC]      ┆           ┆           ┆           ┆   ┆           ┆           ┆           ┆        │\n",
            "╞═════════════╪═══════════╪═══════════╪═══════════╪═══╪═══════════╪═══════════╪═══════════╪════════╡\n",
            "│ 2006-05-03  ┆ 33.471    ┆ 32.19     ┆ 31.062    ┆ … ┆ 32.56     ┆ 32.208    ┆ 31.979    ┆ 0      │\n",
            "│ 04:00:00    ┆           ┆           ┆           ┆   ┆           ┆           ┆           ┆        │\n",
            "│ UTC         ┆           ┆           ┆           ┆   ┆           ┆           ┆           ┆        │\n",
            "│ 2006-05-04  ┆ 33.158    ┆ 33.471    ┆ 32.19     ┆ … ┆ 32.859    ┆ 32.486    ┆ 32.167    ┆ 1      │\n",
            "│ 04:00:00    ┆           ┆           ┆           ┆   ┆           ┆           ┆           ┆        │\n",
            "│ UTC         ┆           ┆           ┆           ┆   ┆           ┆           ┆           ┆        │\n",
            "│ 2006-05-05  ┆ 35.013    ┆ 33.158    ┆ 33.471    ┆ … ┆ 33.936    ┆ 33.226    ┆ 32.62     ┆ 0      │\n",
            "│ 04:00:00    ┆           ┆           ┆           ┆   ┆           ┆           ┆           ┆        │\n",
            "│ UTC         ┆           ┆           ┆           ┆   ┆           ┆           ┆           ┆        │\n",
            "│ 2006-05-08  ┆ 33.645    ┆ 35.013    ┆ 33.158    ┆ … ┆ 33.791    ┆ 33.349    ┆ 32.783    ┆ 0      │\n",
            "│ 04:00:00    ┆           ┆           ┆           ┆   ┆           ┆           ┆           ┆        │\n",
            "│ UTC         ┆           ┆           ┆           ┆   ┆           ┆           ┆           ┆        │\n",
            "│ 2006-05-09  ┆ 32.954    ┆ 33.645    ┆ 35.013    ┆ … ┆ 33.372    ┆ 33.233    ┆ 32.81     ┆ 0      │\n",
            "│ 04:00:00    ┆           ┆           ┆           ┆   ┆           ┆           ┆           ┆        │\n",
            "│ UTC         ┆           ┆           ┆           ┆   ┆           ┆           ┆           ┆        │\n",
            "└─────────────┴───────────┴───────────┴───────────┴───┴───────────┴───────────┴───────────┴────────┘\n",
            "End of wti training set\n",
            "shape: (5, 17)\n",
            "┌─────────────┬───────────┬───────────┬───────────┬───┬───────────┬───────────┬───────────┬────────┐\n",
            "│ Date        ┆ CloseLag1 ┆ CloseLag2 ┆ CloseLag3 ┆ … ┆ CloseEMA2 ┆ CloseEMA4 ┆ CloseEMA8 ┆ Target │\n",
            "│ ---         ┆ ---       ┆ ---       ┆ ---       ┆   ┆ ---       ┆ ---       ┆ ---       ┆ ---    │\n",
            "│ datetime[μs ┆ f64       ┆ f64       ┆ f64       ┆   ┆ f64       ┆ f64       ┆ f64       ┆ i32    │\n",
            "│ , UTC]      ┆           ┆           ┆           ┆   ┆           ┆           ┆           ┆        │\n",
            "╞═════════════╪═══════════╪═══════════╪═══════════╪═══╪═══════════╪═══════════╪═══════════╪════════╡\n",
            "│ 2024-12-23  ┆ 1.413     ┆ 1.344     ┆ 1.442     ┆ … ┆ 1.42      ┆ 1.483     ┆ 1.585     ┆ 1      │\n",
            "│ 05:00:00    ┆           ┆           ┆           ┆   ┆           ┆           ┆           ┆        │\n",
            "│ UTC         ┆           ┆           ┆           ┆   ┆           ┆           ┆           ┆        │\n",
            "│ 2024-12-24  ┆ 1.481     ┆ 1.413     ┆ 1.344     ┆ … ┆ 1.451     ┆ 1.482     ┆ 1.569     ┆ 1      │\n",
            "│ 05:00:00    ┆           ┆           ┆           ┆   ┆           ┆           ┆           ┆        │\n",
            "│ UTC         ┆           ┆           ┆           ┆   ┆           ┆           ┆           ┆        │\n",
            "│ 2024-12-26  ┆ 1.501     ┆ 1.481     ┆ 1.413     ┆ … ┆ 1.476     ┆ 1.488     ┆ 1.558     ┆ 1      │\n",
            "│ 05:00:00    ┆           ┆           ┆           ┆   ┆           ┆           ┆           ┆        │\n",
            "│ UTC         ┆           ┆           ┆           ┆   ┆           ┆           ┆           ┆        │\n",
            "│ 2024-12-27  ┆ 1.54      ┆ 1.501     ┆ 1.481     ┆ … ┆ 1.508     ┆ 1.503     ┆ 1.555     ┆ 1      │\n",
            "│ 05:00:00    ┆           ┆           ┆           ┆   ┆           ┆           ┆           ┆        │\n",
            "│ UTC         ┆           ┆           ┆           ┆   ┆           ┆           ┆           ┆        │\n",
            "│ 2024-12-30  ┆ 1.579     ┆ 1.54      ┆ 1.501     ┆ … ┆ 1.544     ┆ 1.525     ┆ 1.559     ┆ 1      │\n",
            "│ 05:00:00    ┆           ┆           ┆           ┆   ┆           ┆           ┆           ┆        │\n",
            "│ UTC         ┆           ┆           ┆           ┆   ┆           ┆           ┆           ┆        │\n",
            "└─────────────┴───────────┴───────────┴───────────┴───┴───────────┴───────────┴───────────┴────────┘\n",
            "Beginning of wti test set\n",
            "shape: (5, 17)\n",
            "┌─────────────┬───────────┬───────────┬───────────┬───┬───────────┬───────────┬───────────┬────────┐\n",
            "│ Date        ┆ CloseLag1 ┆ CloseLag2 ┆ CloseLag3 ┆ … ┆ CloseEMA2 ┆ CloseEMA4 ┆ CloseEMA8 ┆ Target │\n",
            "│ ---         ┆ ---       ┆ ---       ┆ ---       ┆   ┆ ---       ┆ ---       ┆ ---       ┆ ---    │\n",
            "│ datetime[μs ┆ f64       ┆ f64       ┆ f64       ┆   ┆ f64       ┆ f64       ┆ f64       ┆ i32    │\n",
            "│ , UTC]      ┆           ┆           ┆           ┆   ┆           ┆           ┆           ┆        │\n",
            "╞═════════════╪═══════════╪═══════════╪═══════════╪═══╪═══════════╪═══════════╪═══════════╪════════╡\n",
            "│ 2025-01-02  ┆ 1.628     ┆ 1.638     ┆ 1.579     ┆ … ┆ 1.61      ┆ 1.579     ┆ 1.581     ┆ 1      │\n",
            "│ 05:00:00    ┆           ┆           ┆           ┆   ┆           ┆           ┆           ┆        │\n",
            "│ UTC         ┆           ┆           ┆           ┆   ┆           ┆           ┆           ┆        │\n",
            "│ 2025-01-03  ┆ 1.746     ┆ 1.628     ┆ 1.638     ┆ … ┆ 1.678     ┆ 1.628     ┆ 1.607     ┆ 0      │\n",
            "│ 05:00:00    ┆           ┆           ┆           ┆   ┆           ┆           ┆           ┆        │\n",
            "│ UTC         ┆           ┆           ┆           ┆   ┆           ┆           ┆           ┆        │\n",
            "│ 2025-01-06  ┆ 1.727     ┆ 1.746     ┆ 1.628     ┆ … ┆ 1.702     ┆ 1.657     ┆ 1.626     ┆ 0      │\n",
            "│ 05:00:00    ┆           ┆           ┆           ┆   ┆           ┆           ┆           ┆        │\n",
            "│ UTC         ┆           ┆           ┆           ┆   ┆           ┆           ┆           ┆        │\n",
            "│ 2025-01-07  ┆ 1.619     ┆ 1.727     ┆ 1.746     ┆ … ┆ 1.66      ┆ 1.646     ┆ 1.625     ┆ 0      │\n",
            "│ 05:00:00    ┆           ┆           ┆           ┆   ┆           ┆           ┆           ┆        │\n",
            "│ UTC         ┆           ┆           ┆           ┆   ┆           ┆           ┆           ┆        │\n",
            "│ 2025-01-08  ┆ 1.599     ┆ 1.619     ┆ 1.727     ┆ … ┆ 1.63      ┆ 1.632     ┆ 1.621     ┆ 1      │\n",
            "│ 05:00:00    ┆           ┆           ┆           ┆   ┆           ┆           ┆           ┆        │\n",
            "│ UTC         ┆           ┆           ┆           ┆   ┆           ┆           ┆           ┆        │\n",
            "└─────────────┴───────────┴───────────┴───────────┴───┴───────────┴───────────┴───────────┴────────┘\n",
            "End of wti test set\n",
            "shape: (5, 17)\n",
            "┌─────────────┬───────────┬───────────┬───────────┬───┬───────────┬───────────┬───────────┬────────┐\n",
            "│ Date        ┆ CloseLag1 ┆ CloseLag2 ┆ CloseLag3 ┆ … ┆ CloseEMA2 ┆ CloseEMA4 ┆ CloseEMA8 ┆ Target │\n",
            "│ ---         ┆ ---       ┆ ---       ┆ ---       ┆   ┆ ---       ┆ ---       ┆ ---       ┆ ---    │\n",
            "│ datetime[μs ┆ f64       ┆ f64       ┆ f64       ┆   ┆ f64       ┆ f64       ┆ f64       ┆ i32    │\n",
            "│ , UTC]      ┆           ┆           ┆           ┆   ┆           ┆           ┆           ┆        │\n",
            "╞═════════════╪═══════════╪═══════════╪═══════════╪═══╪═══════════╪═══════════╪═══════════╪════════╡\n",
            "│ 2025-08-13  ┆ 1.74      ┆ 1.71      ┆ 1.72      ┆ … ┆ 1.729     ┆ 1.731     ┆ 1.737     ┆ 0      │\n",
            "│ 04:00:00    ┆           ┆           ┆           ┆   ┆           ┆           ┆           ┆        │\n",
            "│ UTC         ┆           ┆           ┆           ┆   ┆           ┆           ┆           ┆        │\n",
            "│ 2025-08-14  ┆ 1.74      ┆ 1.74      ┆ 1.71      ┆ … ┆ 1.734     ┆ 1.733     ┆ 1.737     ┆ 0      │\n",
            "│ 04:00:00    ┆           ┆           ┆           ┆   ┆           ┆           ┆           ┆        │\n",
            "│ UTC         ┆           ┆           ┆           ┆   ┆           ┆           ┆           ┆        │\n",
            "│ 2025-08-15  ┆ 1.74      ┆ 1.74      ┆ 1.74      ┆ … ┆ 1.737     ┆ 1.735     ┆ 1.737     ┆ 0      │\n",
            "│ 04:00:00    ┆           ┆           ┆           ┆   ┆           ┆           ┆           ┆        │\n",
            "│ UTC         ┆           ┆           ┆           ┆   ┆           ┆           ┆           ┆        │\n",
            "│ 2025-08-18  ┆ 1.71      ┆ 1.74      ┆ 1.74      ┆ … ┆ 1.724     ┆ 1.728     ┆ 1.733     ┆ 1      │\n",
            "│ 04:00:00    ┆           ┆           ┆           ┆   ┆           ┆           ┆           ┆        │\n",
            "│ UTC         ┆           ┆           ┆           ┆   ┆           ┆           ┆           ┆        │\n",
            "│ 2025-08-19  ┆ 1.74      ┆ 1.71      ┆ 1.74      ┆ … ┆ 1.732     ┆ 1.731     ┆ 1.734     ┆ 0      │\n",
            "│ 04:00:00    ┆           ┆           ┆           ┆   ┆           ┆           ┆           ┆        │\n",
            "│ UTC         ┆           ┆           ┆           ┆   ┆           ┆           ┆           ┆        │\n",
            "└─────────────┴───────────┴───────────┴───────────┴───┴───────────┴───────────┴───────────┴────────┘\n"
          ]
        }
      ],
      "source": [
        "\n",
        "# select training data from minDateAll to 2024-12-31, test data all dates in 2025\n",
        "beginTrain = minDateAll\n",
        "endTrain = datetime(2024, 12, 31, tzinfo=timezone.utc)\n",
        "beginTest = datetime(2025, 1, 1, tzinfo=timezone.utc)\n",
        "endTest = maxDateAll\n",
        "wtiTrain = wti.filter((pl.col('Date')>=beginTrain) & (pl.col('Date')<=endTrain))\n",
        "wtiTest = wti.filter((pl.col('Date')>=beginTest) & (pl.col('Date')<=endTest))\n",
        "\n",
        "print(\"Beginning of wti training set\")\n",
        "print(wtiTrain.head())\n",
        "print(\"End of wti training set\")\n",
        "print(wtiTrain.tail())\n",
        "print(\"Beginning of wti test set\")\n",
        "print(wtiTest.head())\n",
        "print(\"End of wti test set\")\n",
        "print(wtiTest.tail())\n"
      ]
    },
    {
      "cell_type": "markdown",
      "metadata": {
        "id": "07gwOHi-UUsS"
      },
      "source": [
        "### Define the WTI Target for Training and Test Sets\n",
        "Using the dates defined by looking across all ETFs and the WTI time series."
      ]
    },
    {
      "cell_type": "code",
      "execution_count": 23,
      "metadata": {
        "colab": {
          "base_uri": "https://localhost:8080/"
        },
        "id": "5faMWeIPUUsS",
        "outputId": "5a3e64a6-4203-4186-b7a2-87008c3100a7"
      },
      "outputs": [
        {
          "output_type": "stream",
          "name": "stdout",
          "text": [
            "shape: (2, 2)\n",
            "┌────────┬───────┐\n",
            "│ Target ┆ count │\n",
            "│ ---    ┆ ---   │\n",
            "│ i32    ┆ u32   │\n",
            "╞════════╪═══════╡\n",
            "│ 1      ┆ 2226  │\n",
            "│ 0      ┆ 2471  │\n",
            "└────────┴───────┘\n",
            "shape: (2, 2)\n",
            "┌────────┬───────┐\n",
            "│ Target ┆ count │\n",
            "│ ---    ┆ ---   │\n",
            "│ i32    ┆ u32   │\n",
            "╞════════╪═══════╡\n",
            "│ 0      ┆ 85    │\n",
            "│ 1      ┆ 72    │\n",
            "└────────┴───────┘\n"
          ]
        }
      ],
      "source": [
        "# Define and examine the target for classification model development\n",
        "print(wtiTrain['Target'].value_counts())\n",
        "yTrain = np.array(wtiTrain['Target'])\n",
        "\n",
        "print(wtiTest['Target'].value_counts())\n",
        "yTest = np.array(wtiTest['Target'])"
      ]
    },
    {
      "cell_type": "markdown",
      "metadata": {
        "id": "aHb9iqD_UUsT"
      },
      "source": [
        "### Remove Target from WTI Data Sets\n",
        "The initial feature set will include price features from WTI. Having obtained the Target from both the training and test data for WTI, we remove it from the WTI feature set in both the training and test sets."
      ]
    },
    {
      "cell_type": "code",
      "execution_count": 24,
      "metadata": {
        "colab": {
          "base_uri": "https://localhost:8080/",
          "height": 255
        },
        "id": "BqYwRKKfUUsT",
        "outputId": "f9376011-dd62-4b3a-d7bc-3ec328af1cb2"
      },
      "outputs": [
        {
          "output_type": "execute_result",
          "data": {
            "text/plain": [
              "shape: (5, 16)\n",
              "┌───────────┬───────────┬───────────┬───────────┬───┬───────────┬───────────┬───────────┬──────────┐\n",
              "│ Date      ┆ CloseLag1 ┆ CloseLag2 ┆ CloseLag3 ┆ … ┆ VolumeLag ┆ CloseEMA2 ┆ CloseEMA4 ┆ CloseEMA │\n",
              "│ ---       ┆ ---       ┆ ---       ┆ ---       ┆   ┆ 3         ┆ ---       ┆ ---       ┆ 8        │\n",
              "│ datetime[ ┆ f64       ┆ f64       ┆ f64       ┆   ┆ ---       ┆ f64       ┆ f64       ┆ ---      │\n",
              "│ μs, UTC]  ┆           ┆           ┆           ┆   ┆ f64       ┆           ┆           ┆ f64      │\n",
              "╞═══════════╪═══════════╪═══════════╪═══════════╪═══╪═══════════╪═══════════╪═══════════╪══════════╡\n",
              "│ 2025-01-0 ┆ 1.628     ┆ 1.638     ┆ 1.579     ┆ … ┆ 2.5184e6  ┆ 1.61      ┆ 1.579     ┆ 1.581    │\n",
              "│ 2         ┆           ┆           ┆           ┆   ┆           ┆           ┆           ┆          │\n",
              "│ 05:00:00  ┆           ┆           ┆           ┆   ┆           ┆           ┆           ┆          │\n",
              "│ UTC       ┆           ┆           ┆           ┆   ┆           ┆           ┆           ┆          │\n",
              "│ 2025-01-0 ┆ 1.746     ┆ 1.628     ┆ 1.638     ┆ … ┆ 3.6429e6  ┆ 1.678     ┆ 1.628     ┆ 1.607    │\n",
              "│ 3         ┆           ┆           ┆           ┆   ┆           ┆           ┆           ┆          │\n",
              "│ 05:00:00  ┆           ┆           ┆           ┆   ┆           ┆           ┆           ┆          │\n",
              "│ UTC       ┆           ┆           ┆           ┆   ┆           ┆           ┆           ┆          │\n",
              "│ 2025-01-0 ┆ 1.727     ┆ 1.746     ┆ 1.628     ┆ … ┆ 2.2437e6  ┆ 1.702     ┆ 1.657     ┆ 1.626    │\n",
              "│ 6         ┆           ┆           ┆           ┆   ┆           ┆           ┆           ┆          │\n",
              "│ 05:00:00  ┆           ┆           ┆           ┆   ┆           ┆           ┆           ┆          │\n",
              "│ UTC       ┆           ┆           ┆           ┆   ┆           ┆           ┆           ┆          │\n",
              "│ 2025-01-0 ┆ 1.619     ┆ 1.727     ┆ 1.746     ┆ … ┆ 3.4821e6  ┆ 1.66      ┆ 1.646     ┆ 1.625    │\n",
              "│ 7         ┆           ┆           ┆           ┆   ┆           ┆           ┆           ┆          │\n",
              "│ 05:00:00  ┆           ┆           ┆           ┆   ┆           ┆           ┆           ┆          │\n",
              "│ UTC       ┆           ┆           ┆           ┆   ┆           ┆           ┆           ┆          │\n",
              "│ 2025-01-0 ┆ 1.599     ┆ 1.619     ┆ 1.727     ┆ … ┆ 1.4409e6  ┆ 1.63      ┆ 1.632     ┆ 1.621    │\n",
              "│ 8         ┆           ┆           ┆           ┆   ┆           ┆           ┆           ┆          │\n",
              "│ 05:00:00  ┆           ┆           ┆           ┆   ┆           ┆           ┆           ┆          │\n",
              "│ UTC       ┆           ┆           ┆           ┆   ┆           ┆           ┆           ┆          │\n",
              "└───────────┴───────────┴───────────┴───────────┴───┴───────────┴───────────┴───────────┴──────────┘"
            ],
            "text/html": [
              "<div><style>\n",
              ".dataframe > thead > tr,\n",
              ".dataframe > tbody > tr {\n",
              "  text-align: right;\n",
              "  white-space: pre-wrap;\n",
              "}\n",
              "</style>\n",
              "<small>shape: (5, 16)</small><table border=\"1\" class=\"dataframe\"><thead><tr><th>Date</th><th>CloseLag1</th><th>CloseLag2</th><th>CloseLag3</th><th>HMLLag1</th><th>HMLLag2</th><th>HMLLag3</th><th>OMCLag1</th><th>OMCLag2</th><th>OMCLag3</th><th>VolumeLag1</th><th>VolumeLag2</th><th>VolumeLag3</th><th>CloseEMA2</th><th>CloseEMA4</th><th>CloseEMA8</th></tr><tr><td>datetime[μs, UTC]</td><td>f64</td><td>f64</td><td>f64</td><td>f64</td><td>f64</td><td>f64</td><td>f64</td><td>f64</td><td>f64</td><td>f64</td><td>f64</td><td>f64</td><td>f64</td><td>f64</td><td>f64</td></tr></thead><tbody><tr><td>2025-01-02 05:00:00 UTC</td><td>1.628</td><td>1.638</td><td>1.579</td><td>0.059</td><td>0.108</td><td>0.098</td><td>0.0</td><td>-0.029</td><td>-0.01</td><td>2.2437e6</td><td>3.6429e6</td><td>2.5184e6</td><td>1.61</td><td>1.579</td><td>1.581</td></tr><tr><td>2025-01-03 05:00:00 UTC</td><td>1.746</td><td>1.628</td><td>1.638</td><td>0.128</td><td>0.059</td><td>0.108</td><td>-0.078</td><td>0.0</td><td>-0.029</td><td>3.4821e6</td><td>2.2437e6</td><td>3.6429e6</td><td>1.678</td><td>1.628</td><td>1.607</td></tr><tr><td>2025-01-06 05:00:00 UTC</td><td>1.727</td><td>1.746</td><td>1.628</td><td>0.088</td><td>0.128</td><td>0.059</td><td>0.039</td><td>-0.078</td><td>0.0</td><td>1.4409e6</td><td>3.4821e6</td><td>2.2437e6</td><td>1.702</td><td>1.657</td><td>1.626</td></tr><tr><td>2025-01-07 05:00:00 UTC</td><td>1.619</td><td>1.727</td><td>1.746</td><td>0.167</td><td>0.088</td><td>0.128</td><td>0.128</td><td>0.039</td><td>-0.078</td><td>2.5746e6</td><td>1.4409e6</td><td>3.4821e6</td><td>1.66</td><td>1.646</td><td>1.625</td></tr><tr><td>2025-01-08 05:00:00 UTC</td><td>1.599</td><td>1.619</td><td>1.727</td><td>0.098</td><td>0.167</td><td>0.088</td><td>0.029</td><td>0.128</td><td>0.039</td><td>2.2995e6</td><td>2.5746e6</td><td>1.4409e6</td><td>1.63</td><td>1.632</td><td>1.621</td></tr></tbody></table></div>"
            ]
          },
          "metadata": {},
          "execution_count": 24
        }
      ],
      "source": [
        "# Having extracted the Target from the WTI training and test sets, we can delete it from the set of features\n",
        "XTrain = wtiTrain.drop(['Target'])\n",
        "XTrain.head()\n",
        "\n",
        "XTest = wtiTest.drop(['Target'])\n",
        "XTest.head()"
      ]
    },
    {
      "cell_type": "code",
      "execution_count": 25,
      "metadata": {
        "id": "u59U4P0BUUsT"
      },
      "outputs": [],
      "source": [
        "# filter by date for all the ETF DataFrames, defining training and test sets\n",
        "\n",
        "spyTrain = spy.filter((pl.col('Date')>=beginTrain) & (pl.col('Date')<=endTrain))\n",
        "spyTest = spy.filter((pl.col('Date')>=beginTest) & (pl.col('Date')<=endTest))\n",
        "\n",
        "gldTrain = gld.filter((pl.col('Date')>=beginTrain) & (pl.col('Date')<=endTrain))\n",
        "gldTest = gld.filter((pl.col('Date')>=beginTest) & (pl.col('Date')<=endTest))\n",
        "\n",
        "vgtTrain = vgt.filter((pl.col('Date')>=beginTrain) & (pl.col('Date')<=endTrain))\n",
        "vgtTest = vgt.filter((pl.col('Date')>=beginTest) & (pl.col('Date')<=endTest))\n",
        "\n",
        "vbTrain = vb.filter((pl.col('Date')>=beginTrain) & (pl.col('Date')<=endTrain))\n",
        "vbTest = vb.filter((pl.col('Date')>=beginTest) & (pl.col('Date')<=endTest))\n",
        "\n",
        "iveTrain = ive.filter((pl.col('Date')>=beginTrain) & (pl.col('Date')<=endTrain))\n",
        "iveTest = ive.filter((pl.col('Date')>=beginTest) & (pl.col('Date')<=endTest))\n",
        "\n",
        "xliTrain = xli.filter((pl.col('Date')>=beginTrain) & (pl.col('Date')<=endTrain))\n",
        "xliTest = xli.filter((pl.col('Date')>=beginTest) & (pl.col('Date')<=endTest))\n",
        "\n",
        "xluTrain = xlu.filter((pl.col('Date')>=beginTrain) & (pl.col('Date')<=endTrain))\n",
        "xluTest = xlu.filter((pl.col('Date')>=beginTest) & (pl.col('Date')<=endTest))\n",
        "\n",
        "slvTrain = slv.filter((pl.col('Date')>=beginTrain) & (pl.col('Date')<=endTrain))\n",
        "slvTest = slv.filter((pl.col('Date')>=beginTest) & (pl.col('Date')<=endTest))\n",
        "\n",
        "usoTrain = uso.filter((pl.col('Date')>=beginTrain) & (pl.col('Date')<=endTrain))\n",
        "usoTest = uso.filter((pl.col('Date')>=beginTest) & (pl.col('Date')<=endTest))\n"
      ]
    },
    {
      "cell_type": "code",
      "execution_count": 26,
      "metadata": {
        "colab": {
          "base_uri": "https://localhost:8080/"
        },
        "id": "m83wlXTTUUsU",
        "outputId": "d22949cb-66aa-4f05-a5ca-be7d18914a9d"
      },
      "outputs": [
        {
          "output_type": "stream",
          "name": "stdout",
          "text": [
            "Train DataFrame shapes:\n",
            "wtiTrain.shape:  (4697, 17)\n",
            "spyTrain.shape:  (4697, 10)\n",
            "gldTrain.shape:  (4697, 10)\n",
            "vgtTrain.shape:  (4697, 10)\n",
            "vbTrain.shape:  (4697, 10)\n",
            "iveTrain.shape:  (4697, 10)\n",
            "xliTrain.shape:  (4697, 10)\n",
            "xluTrain.shape:  (4697, 10)\n",
            "slvTrain.shape:  (4697, 10)\n",
            "usoTrain.shape:  (4697, 10)\n",
            "Test DataFrame shapes:\n",
            "wtiTest.shape:  (157, 17)\n",
            "spyTest.shape:  (157, 10)\n",
            "gldTest.shape:  (157, 10)\n",
            "vgtTest.shape:  (157, 10)\n",
            "vbTest.shape:  (157, 10)\n",
            "iveTest.shape:  (157, 10)\n",
            "xliTest.shape:  (157, 10)\n",
            "xluTest.shape:  (157, 10)\n",
            "slvTest.shape:  (157, 10)\n",
            "usoTest.shape:  (157, 10)\n"
          ]
        }
      ],
      "source": [
        "# verify consistent shapes of DataFrames\n",
        "print(\"Train DataFrame shapes:\")\n",
        "print(\"wtiTrain.shape: \", wtiTrain.shape)\n",
        "print(\"spyTrain.shape: \", spyTrain.shape)\n",
        "print(\"gldTrain.shape: \", gldTrain.shape)\n",
        "print(\"vgtTrain.shape: \", vgtTrain.shape)\n",
        "print(\"vbTrain.shape: \", vbTrain.shape)\n",
        "print(\"iveTrain.shape: \", iveTrain.shape)\n",
        "print(\"xliTrain.shape: \", xliTrain.shape)\n",
        "print(\"xluTrain.shape: \", xluTrain.shape)\n",
        "print(\"slvTrain.shape: \", slvTrain.shape)\n",
        "print(\"usoTrain.shape: \", usoTrain.shape)\n",
        "# verify consistent shapes of DataFrames\n",
        "print(\"Test DataFrame shapes:\")\n",
        "print(\"wtiTest.shape: \", wtiTest.shape)\n",
        "print(\"spyTest.shape: \", spyTest.shape)\n",
        "print(\"gldTest.shape: \", gldTest.shape)\n",
        "print(\"vgtTest.shape: \", vgtTest.shape)\n",
        "print(\"vbTest.shape: \", vbTest.shape)\n",
        "print(\"iveTest.shape: \", iveTest.shape)\n",
        "print(\"xliTest.shape: \", xliTest.shape)\n",
        "print(\"xluTest.shape: \", xluTest.shape)\n",
        "print(\"slvTest.shape: \", slvTest.shape)\n",
        "print(\"usoTest.shape: \", usoTest.shape)\n",
        "\n",
        "\n"
      ]
    },
    {
      "cell_type": "code",
      "execution_count": 27,
      "metadata": {
        "colab": {
          "base_uri": "https://localhost:8080/"
        },
        "id": "803caRJIUUsU",
        "outputId": "d2e19b85-07af-4e0b-d55b-c04718c5bcc8"
      },
      "outputs": [
        {
          "output_type": "stream",
          "name": "stdout",
          "text": [
            "Schema({'Date': Datetime(time_unit='us', time_zone='UTC'), 'CloseLag1': Float64, 'CloseLag2': Float64, 'CloseLag3': Float64, 'HMLLag1': Float64, 'HMLLag2': Float64, 'HMLLag3': Float64, 'OMCLag1': Float64, 'OMCLag2': Float64, 'OMCLag3': Float64, 'VolumeLag1': Float64, 'VolumeLag2': Float64, 'VolumeLag3': Float64, 'CloseEMA2': Float64, 'CloseEMA4': Float64, 'CloseEMA8': Float64, 'Target': Int32, 'SPYUp': Int32, 'gldUp': Int32, 'vgtUp': Int32, 'vbUp': Int32, 'iveUp': Int32, 'xliUp': Int32, 'xluUp': Int32, 'slvUp': Int32, 'usoUp': Int32})\n",
            "shape: (5, 26)\n",
            "┌─────────────────────────┬───────────┬───────────┬───────────┬───┬───────┬───────┬───────┬───────┐\n",
            "│ Date                    ┆ CloseLag1 ┆ CloseLag2 ┆ CloseLag3 ┆ … ┆ xliUp ┆ xluUp ┆ slvUp ┆ usoUp │\n",
            "│ ---                     ┆ ---       ┆ ---       ┆ ---       ┆   ┆ ---   ┆ ---   ┆ ---   ┆ ---   │\n",
            "│ datetime[μs, UTC]       ┆ f64       ┆ f64       ┆ f64       ┆   ┆ i32   ┆ i32   ┆ i32   ┆ i32   │\n",
            "╞═════════════════════════╪═══════════╪═══════════╪═══════════╪═══╪═══════╪═══════╪═══════╪═══════╡\n",
            "│ 2006-05-03 04:00:00 UTC ┆ 33.471    ┆ 32.19     ┆ 31.062    ┆ … ┆ 1     ┆ 0     ┆ 0     ┆ 0     │\n",
            "│ 2006-05-04 04:00:00 UTC ┆ 33.158    ┆ 33.471    ┆ 32.19     ┆ … ┆ 1     ┆ 0     ┆ 0     ┆ 0     │\n",
            "│ 2006-05-05 04:00:00 UTC ┆ 35.013    ┆ 33.158    ┆ 33.471    ┆ … ┆ 1     ┆ 0     ┆ 0     ┆ 0     │\n",
            "│ 2006-05-08 04:00:00 UTC ┆ 33.645    ┆ 35.013    ┆ 33.158    ┆ … ┆ 0     ┆ 0     ┆ 0     ┆ 0     │\n",
            "│ 2006-05-09 04:00:00 UTC ┆ 32.954    ┆ 33.645    ┆ 35.013    ┆ … ┆ 0     ┆ 0     ┆ 0     ┆ 0     │\n",
            "└─────────────────────────┴───────────┴───────────┴───────────┴───┴───────┴───────┴───────┴───────┘\n",
            "Schema({'Date': Datetime(time_unit='us', time_zone='UTC'), 'CloseLag1': Float64, 'CloseLag2': Float64, 'CloseLag3': Float64, 'HMLLag1': Float64, 'HMLLag2': Float64, 'HMLLag3': Float64, 'OMCLag1': Float64, 'OMCLag2': Float64, 'OMCLag3': Float64, 'VolumeLag1': Float64, 'VolumeLag2': Float64, 'VolumeLag3': Float64, 'CloseEMA2': Float64, 'CloseEMA4': Float64, 'CloseEMA8': Float64, 'Target': Int32, 'SPYUp': Int32, 'gldUp': Int32, 'vgtUp': Int32, 'vbUp': Int32, 'iveUp': Int32, 'xliUp': Int32, 'xluUp': Int32, 'slvUp': Int32, 'usoUp': Int32})\n",
            "shape: (5, 26)\n",
            "┌─────────────────────────┬───────────┬───────────┬───────────┬───┬───────┬───────┬───────┬───────┐\n",
            "│ Date                    ┆ CloseLag1 ┆ CloseLag2 ┆ CloseLag3 ┆ … ┆ xliUp ┆ xluUp ┆ slvUp ┆ usoUp │\n",
            "│ ---                     ┆ ---       ┆ ---       ┆ ---       ┆   ┆ ---   ┆ ---   ┆ ---   ┆ ---   │\n",
            "│ datetime[μs, UTC]       ┆ f64       ┆ f64       ┆ f64       ┆   ┆ i32   ┆ i32   ┆ i32   ┆ i32   │\n",
            "╞═════════════════════════╪═══════════╪═══════════╪═══════════╪═══╪═══════╪═══════╪═══════╪═══════╡\n",
            "│ 2025-01-02 05:00:00 UTC ┆ 1.628     ┆ 1.638     ┆ 1.579     ┆ … ┆ 0     ┆ 0     ┆ 0     ┆ 1     │\n",
            "│ 2025-01-03 05:00:00 UTC ┆ 1.746     ┆ 1.628     ┆ 1.638     ┆ … ┆ 0     ┆ 0     ┆ 0     ┆ 1     │\n",
            "│ 2025-01-06 05:00:00 UTC ┆ 1.727     ┆ 1.746     ┆ 1.628     ┆ … ┆ 0     ┆ 0     ┆ 1     ┆ 0     │\n",
            "│ 2025-01-07 05:00:00 UTC ┆ 1.619     ┆ 1.727     ┆ 1.746     ┆ … ┆ 0     ┆ 0     ┆ 1     ┆ 0     │\n",
            "│ 2025-01-08 05:00:00 UTC ┆ 1.599     ┆ 1.619     ┆ 1.727     ┆ … ┆ 0     ┆ 0     ┆ 1     ┆ 0     │\n",
            "└─────────────────────────┴───────────┴───────────┴───────────┴───┴───────┴───────┴───────┴───────┘\n"
          ]
        }
      ],
      "source": [
        "# Add Up indicator variables to the wti DataFrames\n",
        "wtiTrainETF = wtiTrain\n",
        "wtiTrainETF = wtiTrainETF.with_columns(spyTrain['SPYUp'])\n",
        "wtiTrainETF = wtiTrainETF.with_columns(gldTrain['gldUp'])\n",
        "wtiTrainETF = wtiTrainETF.with_columns(vgtTrain['vgtUp'])\n",
        "wtiTrainETF = wtiTrainETF.with_columns(vbTrain['vbUp'])\n",
        "wtiTrainETF = wtiTrainETF.with_columns(iveTrain['iveUp'])\n",
        "wtiTrainETF = wtiTrainETF.with_columns(xliTrain['xliUp'])\n",
        "wtiTrainETF = wtiTrainETF.with_columns(xluTrain['xluUp'])\n",
        "wtiTrainETF = wtiTrainETF.with_columns(slvTrain['slvUp'])\n",
        "wtiTrainETF = wtiTrainETF.with_columns(usoTrain['usoUp'])\n",
        "print(wtiTrainETF.schema)\n",
        "print(wtiTrainETF.head())\n",
        "\n",
        "wtiTestETF = wtiTest\n",
        "wtiTestETF = wtiTestETF.with_columns(spyTest['SPYUp'])\n",
        "wtiTestETF = wtiTestETF.with_columns(gldTest['gldUp'])\n",
        "wtiTestETF = wtiTestETF.with_columns(vgtTest['vgtUp'])\n",
        "wtiTestETF = wtiTestETF.with_columns(vbTest['vbUp'])\n",
        "wtiTestETF = wtiTestETF.with_columns(iveTest['iveUp'])\n",
        "wtiTestETF = wtiTestETF.with_columns(xliTest['xliUp'])\n",
        "wtiTestETF = wtiTestETF.with_columns(xluTest['xluUp'])\n",
        "wtiTestETF = wtiTestETF.with_columns(slvTest['slvUp'])\n",
        "wtiTestETF = wtiTestETF.with_columns(usoTest['usoUp'])\n",
        "print(wtiTestETF.schema)\n",
        "print(wtiTestETF.head())"
      ]
    },
    {
      "cell_type": "code",
      "execution_count": 28,
      "metadata": {
        "id": "5G4laSVoUUsU"
      },
      "outputs": [],
      "source": [
        "# we can now drop Date and Target from wti training and test sets\n",
        "# as we now have the full set o features for training and testing\n",
        "wtiTrainETF = wtiTrainETF.drop(['Date','Target'])\n",
        "wtiTestETF = wtiTestETF.drop(['Date','Target'])\n"
      ]
    },
    {
      "cell_type": "code",
      "execution_count": 29,
      "metadata": {
        "colab": {
          "base_uri": "https://localhost:8080/"
        },
        "id": "l6eJlYr0UUsU",
        "outputId": "f0d460cc-6df5-4cec-9498-77affe9e9bfd"
      },
      "outputs": [
        {
          "output_type": "stream",
          "name": "stdout",
          "text": [
            "['CloseLag1', 'CloseLag2', 'CloseLag3', 'HMLLag1', 'HMLLag2', 'HMLLag3', 'OMCLag1', 'OMCLag2', 'OMCLag3', 'VolumeLag1', 'VolumeLag2', 'VolumeLag3', 'CloseEMA2', 'CloseEMA4', 'CloseEMA8', 'SPYUp', 'gldUp', 'vgtUp', 'vbUp', 'iveUp', 'xliUp', 'xluUp', 'slvUp', 'usoUp']\n",
            "Schema({'column': String, 'column_0': String, 'column_2': String, 'column_3': String, 'column_4': String, 'column_8': String})\n",
            "┌────────────┬──────────┬──────────────────────┬─────────────────────┬──────────┬────────────┐\n",
            "│ column     ┆ column_0 ┆ column_2             ┆ column_3            ┆ column_4 ┆ column_8   │\n",
            "╞════════════╪══════════╪══════════════════════╪═════════════════════╪══════════╪════════════╡\n",
            "│ statistic  ┆ count    ┆ mean                 ┆ std                 ┆ min      ┆ max        │\n",
            "│ CloseLag1  ┆ 4697.0   ┆ 9.42989951032574     ┆ 7.897183262303118   ┆ 1.047    ┆ 44.172     │\n",
            "│ CloseLag2  ┆ 4697.0   ┆ 9.436416648924844    ┆ 7.9033313872397235  ┆ 1.047    ┆ 44.172     │\n",
            "│ CloseLag3  ┆ 4697.0   ┆ 9.442701937406857    ┆ 7.908787369261863   ┆ 1.047    ┆ 44.172     │\n",
            "│ HMLLag1    ┆ 4697.0   ┆ 0.45096912923142435  ┆ 0.43046778924002915 ┆ 0.029    ┆ 4.129      │\n",
            "│ HMLLag2    ┆ 4697.0   ┆ 0.4511884181392378   ┆ 0.430550284813976   ┆ 0.029    ┆ 4.129      │\n",
            "│ HMLLag3    ┆ 4697.0   ┆ 0.45153161592505847  ┆ 0.43091101632916273 ┆ 0.029    ┆ 4.129      │\n",
            "│ OMCLag1    ┆ 4697.0   ┆ 0.01788971684053652  ┆ 0.37228269414483484 ┆ -3.223   ┆ 3.705      │\n",
            "│ OMCLag2    ┆ 4697.0   ┆ 0.01769980838833299  ┆ 0.372524358855584   ┆ -3.223   ┆ 3.705      │\n",
            "│ OMCLag3    ┆ 4697.0   ┆ 0.017603363849265495 ┆ 0.3726002626424469  ┆ -3.223   ┆ 3.705      │\n",
            "│ VolumeLag1 ┆ 4697.0   ┆ 1846951.096444539    ┆ 1858744.765927545   ┆ 52700.0  ┆ 40429700.0 │\n",
            "│ VolumeLag2 ┆ 4697.0   ┆ 1846464.4241004896   ┆ 1858868.1768158833  ┆ 52700.0  ┆ 40429700.0 │\n",
            "│ VolumeLag3 ┆ 4697.0   ┆ 1846199.0419416649   ┆ 1859002.9828863258  ┆ 52700.0  ┆ 40429700.0 │\n",
            "│ CloseEMA2  ┆ 4697.0   ┆ 9.436308707685756    ┆ 7.895419576436975   ┆ 1.156    ┆ 43.432     │\n",
            "│ CloseEMA4  ┆ 4697.0   ┆ 9.445398552267404    ┆ 7.8949081293536825  ┆ 1.285    ┆ 43.018     │\n",
            "│ CloseEMA8  ┆ 4697.0   ┆ 9.46381328507558     ┆ 7.89367447447351    ┆ 1.382    ┆ 42.696     │\n",
            "│ SPYUp      ┆ 4697.0   ┆ 0.16180540770704704  ┆ 0.3683114152213244  ┆ 0.0      ┆ 1.0        │\n",
            "│ gldUp      ┆ 4697.0   ┆ 0.1317862465403449   ┆ 0.3382942460184131  ┆ 0.0      ┆ 1.0        │\n",
            "│ vgtUp      ┆ 4697.0   ┆ 0.17947626144347456  ┆ 0.3837914701893579  ┆ 0.0      ┆ 1.0        │\n",
            "│ vbUp       ┆ 4697.0   ┆ 0.14583776878858845  ┆ 0.35298107686677166 ┆ 0.0      ┆ 1.0        │\n",
            "│ iveUp      ┆ 4697.0   ┆ 0.1434958484138812   ┆ 0.3506151196560094  ┆ 0.0      ┆ 1.0        │\n",
            "│ xliUp      ┆ 4697.0   ┆ 0.15307643176495636  ┆ 0.36009949338550645 ┆ 0.0      ┆ 1.0        │\n",
            "│ xluUp      ┆ 4697.0   ┆ 0.14945710027677242  ┆ 0.3565764227079491  ┆ 0.0      ┆ 1.0        │\n",
            "│ slvUp      ┆ 4697.0   ┆ 0.12561209282520758  ┆ 0.3314469546366193  ┆ 0.0      ┆ 1.0        │\n",
            "│ usoUp      ┆ 4697.0   ┆ 0.12944432616563764  ┆ 0.33572680751900363 ┆ 0.0      ┆ 1.0        │\n",
            "└────────────┴──────────┴──────────────────────┴─────────────────────┴──────────┴────────────┘\n",
            "shape: (5, 24)\n",
            "┌───────────┬───────────┬───────────┬─────────┬───┬───────┬───────┬───────┬───────┐\n",
            "│ CloseLag1 ┆ CloseLag2 ┆ CloseLag3 ┆ HMLLag1 ┆ … ┆ xliUp ┆ xluUp ┆ slvUp ┆ usoUp │\n",
            "│ ---       ┆ ---       ┆ ---       ┆ ---     ┆   ┆ ---   ┆ ---   ┆ ---   ┆ ---   │\n",
            "│ f64       ┆ f64       ┆ f64       ┆ f64     ┆   ┆ i32   ┆ i32   ┆ i32   ┆ i32   │\n",
            "╞═══════════╪═══════════╪═══════════╪═════════╪═══╪═══════╪═══════╪═══════╪═══════╡\n",
            "│ 33.471    ┆ 32.19     ┆ 31.062    ┆ 1.681   ┆ … ┆ 1     ┆ 0     ┆ 0     ┆ 0     │\n",
            "│ 33.158    ┆ 33.471    ┆ 32.19     ┆ 1.375   ┆ … ┆ 1     ┆ 0     ┆ 0     ┆ 0     │\n",
            "│ 35.013    ┆ 33.158    ┆ 33.471    ┆ 1.688   ┆ … ┆ 1     ┆ 0     ┆ 0     ┆ 0     │\n",
            "│ 33.645    ┆ 35.013    ┆ 33.158    ┆ 1.899   ┆ … ┆ 0     ┆ 0     ┆ 0     ┆ 0     │\n",
            "│ 32.954    ┆ 33.645    ┆ 35.013    ┆ 1.077   ┆ … ┆ 0     ┆ 0     ┆ 0     ┆ 0     │\n",
            "└───────────┴───────────┴───────────┴─────────┴───┴───────┴───────┴───────┴───────┘\n"
          ]
        }
      ],
      "source": [
        "trainStatistics = wtiTrainETF.describe()\n",
        "print(wtiTrainETF.columns)\n",
        "trainStatisticsToPrint = trainStatistics.transpose(include_header=True).drop(['column_1', 'column_5', 'column_6', 'column_7'])\n",
        "print(trainStatisticsToPrint.schema)\n",
        "with pl.Config(\n",
        "    tbl_rows = 60,\n",
        "    tbl_width_chars = 200,\n",
        "    tbl_cols = -1,\n",
        "    float_precision = 3,\n",
        "    tbl_hide_dataframe_shape = True,\n",
        "    tbl_hide_column_data_types = True):\n",
        "    print(trainStatisticsToPrint)\n",
        "\n",
        "# print a few records at the beginning of the DataFrame\n",
        "print(wtiTrainETF.head())"
      ]
    },
    {
      "cell_type": "code",
      "execution_count": 30,
      "metadata": {
        "colab": {
          "base_uri": "https://localhost:8080/"
        },
        "id": "IUuwb9N5UUsU",
        "outputId": "38abb953-6c55-4e16-ba95-e4b2ecf6a75a"
      },
      "outputs": [
        {
          "output_type": "stream",
          "name": "stdout",
          "text": [
            "['CloseLag1', 'CloseLag2', 'CloseLag3', 'HMLLag1', 'HMLLag2', 'HMLLag3', 'OMCLag1', 'OMCLag2', 'OMCLag3', 'VolumeLag1', 'VolumeLag2', 'VolumeLag3', 'CloseEMA2', 'CloseEMA4', 'CloseEMA8', 'SPYUp', 'gldUp', 'vgtUp', 'vbUp', 'iveUp', 'xliUp', 'xluUp', 'slvUp', 'usoUp']\n",
            "Schema({'column': String, 'column_0': String, 'column_2': String, 'column_3': String, 'column_4': String, 'column_8': String})\n",
            "┌────────────┬──────────┬──────────────────────┬──────────────────────┬──────────┬───────────┐\n",
            "│ column     ┆ column_0 ┆ column_2             ┆ column_3             ┆ column_4 ┆ column_8  │\n",
            "╞════════════╪══════════╪══════════════════════╪══════════════════════╪══════════╪═══════════╡\n",
            "│ statistic  ┆ count    ┆ mean                 ┆ std                  ┆ min      ┆ max       │\n",
            "│ CloseLag1  ┆ 157.0    ┆ 1.583496815286624    ┆ 0.23880529630030126  ┆ 1.096    ┆ 2.346     │\n",
            "│ CloseLag2  ┆ 157.0    ┆ 1.5828471337579617   ┆ 0.23851536438187623  ┆ 1.096    ┆ 2.346     │\n",
            "│ CloseLag3  ┆ 157.0    ┆ 1.5820127388535032   ┆ 0.23829673344386137  ┆ 1.096    ┆ 2.346     │\n",
            "│ HMLLag1    ┆ 157.0    ┆ 0.08693630573248408  ┆ 0.05223058853366095  ┆ 0.03     ┆ 0.398     │\n",
            "│ HMLLag2    ┆ 157.0    ┆ 0.08730573248407644  ┆ 0.052172748365944654 ┆ 0.03     ┆ 0.398     │\n",
            "│ HMLLag3    ┆ 157.0    ┆ 0.08761146496815288  ┆ 0.05209331490177502  ┆ 0.03     ┆ 0.398     │\n",
            "│ OMCLag1    ┆ 157.0    ┆ 0.004267515923566881 ┆ 0.06086306426616007  ┆ -0.119   ┆ 0.288     │\n",
            "│ OMCLag2    ┆ 157.0    ┆ 0.004210191082802551 ┆ 0.06089029983030787  ┆ -0.119   ┆ 0.288     │\n",
            "│ OMCLag3    ┆ 157.0    ┆ 0.003891719745222931 ┆ 0.060832639225176156 ┆ -0.119   ┆ 0.288     │\n",
            "│ VolumeLag1 ┆ 157.0    ┆ 1774694.2675159236   ┆ 1436394.6061296004   ┆ 469000.0 ┆ 9514600.0 │\n",
            "│ VolumeLag2 ┆ 157.0    ┆ 1793519.1082802548   ┆ 1441411.6644551635   ┆ 469000.0 ┆ 9514600.0 │\n",
            "│ VolumeLag3 ┆ 157.0    ┆ 1805398.7261146498   ┆ 1439638.7979587486   ┆ 469000.0 ┆ 9514600.0 │\n",
            "│ CloseEMA2  ┆ 157.0    ┆ 1.582611464968153    ┆ 0.2311157066659726   ┆ 1.111    ┆ 2.235     │\n",
            "│ CloseEMA4  ┆ 157.0    ┆ 1.5808598726114649   ┆ 0.2211442694956234   ┆ 1.136    ┆ 2.122     │\n",
            "│ CloseEMA8  ┆ 157.0    ┆ 1.5780191082802548   ┆ 0.20381714628488098  ┆ 1.157    ┆ 1.988     │\n",
            "│ SPYUp      ┆ 157.0    ┆ 0.16560509554140126  ┆ 0.3729152952210012   ┆ 0.0      ┆ 1.0       │\n",
            "│ gldUp      ┆ 157.0    ┆ 0.1592356687898089   ┆ 0.36706657923512565  ┆ 0.0      ┆ 1.0       │\n",
            "│ vgtUp      ┆ 157.0    ┆ 0.1464968152866242   ┆ 0.35473512372277594  ┆ 0.0      ┆ 1.0       │\n",
            "│ vbUp       ┆ 157.0    ┆ 0.08917197452229299  ┆ 0.28590378914144393  ┆ 0.0      ┆ 1.0       │\n",
            "│ iveUp      ┆ 157.0    ┆ 0.12738853503184713  ┆ 0.3344746100072572   ┆ 0.0      ┆ 1.0       │\n",
            "│ xliUp      ┆ 157.0    ┆ 0.12738853503184713  ┆ 0.3344746100072572   ┆ 0.0      ┆ 1.0       │\n",
            "│ xluUp      ┆ 157.0    ┆ 0.14012738853503184  ┆ 0.3482299329928992   ┆ 0.0      ┆ 1.0       │\n",
            "│ slvUp      ┆ 157.0    ┆ 0.10828025477707007  ┆ 0.3117283875755422   ┆ 0.0      ┆ 1.0       │\n",
            "│ usoUp      ┆ 157.0    ┆ 0.07643312101910828  ┆ 0.2665400646721862   ┆ 0.0      ┆ 1.0       │\n",
            "└────────────┴──────────┴──────────────────────┴──────────────────────┴──────────┴───────────┘\n",
            "shape: (5, 24)\n",
            "┌───────────┬───────────┬───────────┬─────────┬───┬───────┬───────┬───────┬───────┐\n",
            "│ CloseLag1 ┆ CloseLag2 ┆ CloseLag3 ┆ HMLLag1 ┆ … ┆ xliUp ┆ xluUp ┆ slvUp ┆ usoUp │\n",
            "│ ---       ┆ ---       ┆ ---       ┆ ---     ┆   ┆ ---   ┆ ---   ┆ ---   ┆ ---   │\n",
            "│ f64       ┆ f64       ┆ f64       ┆ f64     ┆   ┆ i32   ┆ i32   ┆ i32   ┆ i32   │\n",
            "╞═══════════╪═══════════╪═══════════╪═════════╪═══╪═══════╪═══════╪═══════╪═══════╡\n",
            "│ 1.628     ┆ 1.638     ┆ 1.579     ┆ 0.059   ┆ … ┆ 0     ┆ 0     ┆ 0     ┆ 1     │\n",
            "│ 1.746     ┆ 1.628     ┆ 1.638     ┆ 0.128   ┆ … ┆ 0     ┆ 0     ┆ 0     ┆ 1     │\n",
            "│ 1.727     ┆ 1.746     ┆ 1.628     ┆ 0.088   ┆ … ┆ 0     ┆ 0     ┆ 1     ┆ 0     │\n",
            "│ 1.619     ┆ 1.727     ┆ 1.746     ┆ 0.167   ┆ … ┆ 0     ┆ 0     ┆ 1     ┆ 0     │\n",
            "│ 1.599     ┆ 1.619     ┆ 1.727     ┆ 0.098   ┆ … ┆ 0     ┆ 0     ┆ 1     ┆ 0     │\n",
            "└───────────┴───────────┴───────────┴─────────┴───┴───────┴───────┴───────┴───────┘\n"
          ]
        }
      ],
      "source": [
        "testStatistics = wtiTestETF.describe()\n",
        "print(wtiTestETF.columns)\n",
        "testStatisticsToPrint = testStatistics.transpose(include_header=True).drop(['column_1', 'column_5', 'column_6', 'column_7'])\n",
        "print(testStatisticsToPrint.schema)\n",
        "with pl.Config(\n",
        "    tbl_rows = 60,\n",
        "    tbl_width_chars = 200,\n",
        "    tbl_cols = -1,\n",
        "    float_precision = 3,\n",
        "    tbl_hide_dataframe_shape = True,\n",
        "    tbl_hide_column_data_types = True):\n",
        "    print(testStatisticsToPrint)\n",
        "\n",
        "# print a few records at the beginning of the DataFrame\n",
        "print(wtiTestETF.head())"
      ]
    },
    {
      "cell_type": "code",
      "execution_count": 31,
      "metadata": {
        "colab": {
          "base_uri": "https://localhost:8080/"
        },
        "id": "DPUI93oTUUsV",
        "outputId": "dfa00445-5b91-4742-867f-cc16ff14dcac"
      },
      "outputs": [
        {
          "output_type": "stream",
          "name": "stdout",
          "text": [
            "Feature names correspond to Numpy array columns: ['CloseLag1', 'CloseLag2', 'CloseLag3', 'HMLLag1', 'HMLLag2', 'HMLLag3', 'OMCLag1', 'OMCLag2', 'OMCLag3', 'VolumeLag1', 'VolumeLag2', 'VolumeLag3', 'CloseEMA2', 'CloseEMA4', 'CloseEMA8', 'SPYUp', 'gldUp', 'vgtUp', 'vbUp', 'iveUp', 'xliUp', 'xluUp', 'slvUp', 'usoUp']\n"
          ]
        }
      ],
      "source": [
        "# Standardize features in the training data\n",
        "featureNames = wtiTrainETF.columns\n",
        "print(\"Feature names correspond to Numpy array columns:\",featureNames)\n",
        "scaler = StandardScaler()\n",
        "XTrain = scaler.fit_transform(np.array(wtiTrainETF))"
      ]
    },
    {
      "cell_type": "code",
      "execution_count": 32,
      "metadata": {
        "colab": {
          "base_uri": "https://localhost:8080/"
        },
        "id": "md39SQjKUUsV",
        "outputId": "a60badb7-0f2b-4bf9-876b-b2dd0083f670"
      },
      "outputs": [
        {
          "output_type": "stream",
          "name": "stdout",
          "text": [
            "Feature names correspond to Numpy array columns: ['CloseLag1', 'CloseLag2', 'CloseLag3', 'HMLLag1', 'HMLLag2', 'HMLLag3', 'OMCLag1', 'OMCLag2', 'OMCLag3', 'VolumeLag1', 'VolumeLag2', 'VolumeLag3', 'CloseEMA2', 'CloseEMA4', 'CloseEMA8', 'SPYUp', 'gldUp', 'vgtUp', 'vbUp', 'iveUp', 'xliUp', 'xluUp', 'slvUp', 'usoUp']\n"
          ]
        }
      ],
      "source": [
        "# Standardize features for hold-out test set\n",
        "featureNames = wtiTestETF.columns\n",
        "print(\"Feature names correspond to Numpy array columns:\",featureNames)\n",
        "scaler = StandardScaler()\n",
        "XTest = scaler.fit_transform(np.array(wtiTestETF))"
      ]
    },
    {
      "cell_type": "code",
      "execution_count": 33,
      "metadata": {
        "id": "yQ-X2VShUUsV"
      },
      "outputs": [],
      "source": [
        "# Defining training features and target for tree-structured ensemble modeling (XGBoost)\n",
        "X = XTrain  # the full training data set with ETS Up indicators\n",
        "y = yTrain  # the cloned values just computed"
      ]
    },
    {
      "cell_type": "code",
      "execution_count": 34,
      "metadata": {
        "colab": {
          "base_uri": "https://localhost:8080/"
        },
        "id": "qWyXGlxoUUsW",
        "outputId": "80bee791-eb67-485a-b90e-4f2abe459040"
      },
      "outputs": [
        {
          "output_type": "stream",
          "name": "stdout",
          "text": [
            "type(all_splits): <class 'list'>  outer list length 5\n",
            "\n",
            "train_0 has 777 with indices from  0 to 776\n",
            "test_0 has 782 with indices from  787 to 1568\n",
            "\n",
            "train_1 has 1559 with indices from  0 to 1558\n",
            "test_1 has 782 with indices from  1569 to 2350\n",
            "\n",
            "train_2 has 2341 with indices from  0 to 2340\n",
            "test_2 has 782 with indices from  2351 to 3132\n",
            "\n",
            "train_3 has 3123 with indices from  0 to 3122\n",
            "test_3 has 782 with indices from  3133 to 3914\n",
            "\n",
            "train_4 has 3905 with indices from  0 to 3904\n",
            "test_4 has 782 with indices from  3915 to 4696\n"
          ]
        }
      ],
      "source": [
        "# Splitting the X (XTrain) and y (yTrain) data\n",
        "# into cross-validation train and test sets\n",
        "# within the Scikit-Learn framework using TimeSeriesSplit\n",
        "# with a gap, for the number of samples to exclude from\n",
        "# the end of each train set and before the next test set.\n",
        "tscv = TimeSeriesSplit(gap=10, n_splits=5)\n",
        "\n",
        "all_splits = list(tscv.split(X, y))\n",
        "train_0, test_0 = all_splits[0]\n",
        "train_1, test_1 = all_splits[1]\n",
        "train_2, test_2 = all_splits[2]\n",
        "train_3, test_3 = all_splits[3]\n",
        "train_4, test_4 = all_splits[4]\n",
        "\n",
        "# examine the objects created for cross-validation splits\n",
        "print(\"type(all_splits):\", type(all_splits), \" outer list length\", len(all_splits))\n",
        "print()\n",
        "print(\"train_0 has\",len(train_0),\"with indices from \",min(train_0),\"to\",max(train_0))\n",
        "print(\"test_0 has\",len(test_0),\"with indices from \",min(test_0),\"to\",max(test_0))\n",
        "print()\n",
        "print(\"train_1 has\",len(train_1),\"with indices from \",min(train_1),\"to\",max(train_1))\n",
        "print(\"test_1 has\",len(test_1),\"with indices from \",min(test_1),\"to\",max(test_1))\n",
        "print()\n",
        "print(\"train_2 has\",len(train_2),\"with indices from \",min(train_2),\"to\",max(train_2))\n",
        "print(\"test_2 has\",len(test_2),\"with indices from \",min(test_2),\"to\",max(test_2))\n",
        "print()\n",
        "print(\"train_3 has\",len(train_3),\"with indices from \",min(train_3),\"to\",max(train_3))\n",
        "print(\"test_3 has\",len(test_3),\"with indices from \",min(test_3),\"to\",max(test_3))\n",
        "print()\n",
        "print(\"train_4 has\",len(train_4),\"with indices from \",min(train_4),\"to\",max(train_4))\n",
        "print(\"test_4 has\",len(test_4),\"with indices from \",min(test_4),\"to\",max(test_4))\n",
        "\n",
        "# to see all indices we can uncomment these statements\n",
        "# print(\"elements of all_splits list of lists,\\n shows index numbers for each the five lists\")\n",
        "# print(all_splits)"
      ]
    },
    {
      "cell_type": "code",
      "execution_count": 35,
      "metadata": {
        "id": "E1xer8cGUUsW"
      },
      "outputs": [],
      "source": [
        "model = XGBClassifier(objective='binary:logistic', n_estimators=1000, random_state=2025)"
      ]
    },
    {
      "cell_type": "code",
      "execution_count": 36,
      "metadata": {
        "colab": {
          "base_uri": "https://localhost:8080/"
        },
        "id": "a1UrXBmbUUsW",
        "outputId": "15a3c93f-2e41-4f6b-a571-6f2f38daf6be"
      },
      "outputs": [
        {
          "output_type": "stream",
          "name": "stdout",
          "text": [
            "Mean model.n_estimators = 1000.0\n"
          ]
        },
        {
          "output_type": "execute_result",
          "data": {
            "text/plain": [
              "(np.float64(0.5227621483375959), np.float64(0.02756221736900479))"
            ]
          },
          "metadata": {},
          "execution_count": 36
        }
      ],
      "source": [
        "# Evaluate a Classification Model Within the Time Series Cross-Validation Design\n",
        "# Prior to executing a full-blown search for the \"best\" classification model,\n",
        "# we test the cross-validation design on a binary classification model,\n",
        "# revising code provided in online documentation for Scikit-Learn:\n",
        "# Time-related feature engineering. In particular,\n",
        "# we define appropriate metrics for assessing classification performance.\n",
        "def evaluate(model, X, y, cv, model_prop=None, model_step=None):\n",
        "    cv_results = cross_validate(\n",
        "        model,\n",
        "        X,\n",
        "        y,\n",
        "        cv=cv,\n",
        "        scoring=[\"accuracy\"],\n",
        "        return_estimator=model_prop is not None,\n",
        "    )\n",
        "    if model_prop is not None:\n",
        "        if model_step is not None:\n",
        "            values = [\n",
        "                getattr(m[model_step], model_prop) for m in cv_results[\"estimator\"]\n",
        "            ]\n",
        "        else:\n",
        "            values = [getattr(m, model_prop) for m in cv_results[\"estimator\"]]\n",
        "        print(f\"Mean model.{model_prop} = {np.mean(values)}\")\n",
        "    accuracy = -cv_results[\"test_accuracy\"]\n",
        "\n",
        "    # print used in earlier testing\n",
        "    # print(\n",
        "    #    f\"Mean Accuracy:     {-accuracy.mean():.3f} +/- {accuracy.std():.3f}\\n\"\n",
        "    # )\n",
        "    return (-accuracy.mean(), accuracy.std())\n",
        "\n",
        "evaluate(model, X, y, cv=tscv, model_prop=\"n_estimators\")"
      ]
    },
    {
      "cell_type": "code",
      "execution_count": 37,
      "metadata": {
        "colab": {
          "base_uri": "https://localhost:8080/"
        },
        "id": "XRhoqcTdUUsX",
        "outputId": "bf29cb40-5844-4260-ae75-a1f03455f4bb"
      },
      "outputs": [
        {
          "output_type": "stream",
          "name": "stdout",
          "text": [
            "Mean model.n_estimators = 1000.0\n",
            "Mean Accuracy:     0.523 +/- 0.028\n",
            "\n"
          ]
        }
      ],
      "source": [
        "# print results from evaluate for the model with default hyperparameter settings\n",
        "accuracyMean, accuracyStd = evaluate(model, X, y, cv=tscv, model_prop=\"n_estimators\")\n",
        "print(\n",
        "        f\"Mean Accuracy:     {accuracyMean:.3f} +/- {accuracyStd:.3f}\\n\"\n",
        "     )"
      ]
    },
    {
      "cell_type": "code",
      "execution_count": 38,
      "metadata": {
        "colab": {
          "base_uri": "https://localhost:8080/"
        },
        "id": "fHEku23bUUsX",
        "outputId": "562ebb2d-c1be-4043-d436-5cb021ce1838"
      },
      "outputs": [
        {
          "output_type": "stream",
          "name": "stdout",
          "text": [
            "Best parameters: {'learning_rate': np.float64(0.1028257981371853), 'max_depth': 3, 'min_child_weight': 6, 'n_estimators': 110, 'subsample': np.float64(0.9926169375062625)}\n",
            "Best score: 0.5547314578005115\n"
          ]
        }
      ],
      "source": [
        "# Randomized search to find the best set of hyperparameters\n",
        "\n",
        "param_dist = {\n",
        "    'max_depth': randint(3, 10),\n",
        "    'min_child_weight': randint(1, 10),\n",
        "    'subsample': uniform(0.5, 1),\n",
        "    'learning_rate': uniform(0.01, 0.1),\n",
        "    'n_estimators': randint(100, 1000),\n",
        "}\n",
        "xgb_model = xgb.XGBClassifier(objective='binary:logistic', use_label_encoder=False, eval_metric='logloss', random_state=2025)\n",
        "\n",
        "random_search = RandomizedSearchCV(\n",
        "    estimator=xgb_model,\n",
        "    param_distributions=param_dist,\n",
        "    n_iter=100, # Number of parameter settings that are sampled.\n",
        "    scoring='accuracy',\n",
        "    cv = TimeSeriesSplit(gap=10, n_splits=5),\n",
        "    random_state=2025,\n",
        "    n_jobs=-1 # Use all available cores\n",
        ")\n",
        "\n",
        "random_search.fit(X, y)\n",
        "\n",
        "print(\"Best parameters:\", random_search.best_params_)\n",
        "print(\"Best score:\", random_search.best_score_)"
      ]
    },
    {
      "cell_type": "code",
      "execution_count": 39,
      "metadata": {
        "colab": {
          "base_uri": "https://localhost:8080/",
          "height": 468
        },
        "id": "ZSZX4XfkUUsX",
        "outputId": "905f2ac9-9ce0-4fe6-f21e-1a76410e317f"
      },
      "outputs": [
        {
          "output_type": "execute_result",
          "data": {
            "text/plain": [
              "<sklearn.metrics._plot.roc_curve.RocCurveDisplay at 0x7b18048096d0>"
            ]
          },
          "metadata": {},
          "execution_count": 39
        },
        {
          "output_type": "display_data",
          "data": {
            "text/plain": [
              "<Figure size 640x480 with 1 Axes>"
            ],
            "image/png": "[encoded data removed]"
          },
          "metadata": {}
        }
      ],
      "source": [
        "# Evaluate Model Classification Performance in the Test Set with \"Best\" hyperparameter settings\n",
        "# final model evaluation\n",
        "finalModel = XGBClassifier(objective='binary:logistic', eval_metric='logloss', random_state=2025,\n",
        "                          max_depth = 3, min_child_weight = 6, subsample = 0.9926, learning_rate = 0.1028, n_estimators = 110)\n",
        "\n",
        "finalModel.fit(X, y) # fit to the training data\n",
        "ypred = finalModel.predict(XTest) # predictions on the hold-out test data\n",
        "RocCurveDisplay.from_predictions(yTest, ypred)\n"
      ]
    },
    {
      "cell_type": "code",
      "execution_count": 40,
      "metadata": {
        "colab": {
          "base_uri": "https://localhost:8080/",
          "height": 539
        },
        "id": "xDk-DKIOUUsX",
        "outputId": "b0f0624d-4da5-4e06-d132-1a96d5df3417"
      },
      "outputs": [
        {
          "output_type": "stream",
          "name": "stdout",
          "text": [
            "Confusion Matrix\n",
            "[[60 25]\n",
            " [43 29]]\n"
          ]
        },
        {
          "output_type": "display_data",
          "data": {
            "text/plain": [
              "<Figure size 640x480 with 2 Axes>"
            ],
            "image/png": "[encoded data removed]"
          },
          "metadata": {}
        }
      ],
      "source": [
        "print(\"Confusion Matrix\")\n",
        "print(confusion_matrix(yTest, ypred))\n",
        "disp = ConfusionMatrixDisplay.from_predictions(yTest, ypred,\n",
        "                              display_labels =[\"0\",\"1\"],\n",
        "                                              cmap = plt.cm.Blues)\n",
        "plt.title(\"Confusion Matrix for Returns\")\n",
        "plt.xlabel(\"Predicted Return\")\n",
        "plt.ylabel(\"Actual Return\")\n",
        "plt.tight_layout()\n",
        "plt.show()"
      ]
    },
    {
      "cell_type": "code",
      "execution_count": 41,
      "metadata": {
        "colab": {
          "base_uri": "https://localhost:8080/"
        },
        "id": "OtkDHpR1UUsX",
        "outputId": "cec32fa0-463e-40b8-cc9c-b288ff51f3dd"
      },
      "outputs": [
        {
          "output_type": "stream",
          "name": "stdout",
          "text": [
            "              precision    recall  f1-score   support\n",
            "\n",
            "           0       0.58      0.71      0.64        85\n",
            "           1       0.54      0.40      0.46        72\n",
            "\n",
            "   micro avg       0.57      0.57      0.57       157\n",
            "   macro avg       0.56      0.55      0.55       157\n",
            "weighted avg       0.56      0.57      0.56       157\n",
            "\n"
          ]
        }
      ],
      "source": [
        "print(classification_report(yTest, ypred, labels = [\"0\",\"1\"]))"
      ]
    },
    {
      "cell_type": "code",
      "execution_count": 42,
      "metadata": {
        "colab": {
          "base_uri": "https://localhost:8080/"
        },
        "id": "mk6px-rjUUsX",
        "outputId": "0a2e3849-956b-42d2-ff12-38daf6292ac9"
      },
      "outputs": [
        {
          "output_type": "stream",
          "name": "stdout",
          "text": [
            "[0.03554125 0.03681396 0.02979073 0.03187476 0.03344043 0.03159249\n",
            " 0.03389664 0.03182556 0.03242039 0.03059248 0.03362924 0.03305562\n",
            " 0.0340656  0.03398153 0.03388465 0.03818348 0.04184548 0.04407267\n",
            " 0.08171924 0.05827134 0.06480999 0.03208482 0.04142426 0.10118343]\n"
          ]
        }
      ],
      "source": [
        "# Assess and print feature importances\n",
        "model.fit(X, y)\n",
        "print(model.feature_importances_)"
      ]
    },
    {
      "cell_type": "markdown",
      "metadata": {
        "id": "BfYWx52OUUsY"
      },
      "source": [
        "### Ranking Features by Importance\n",
        "This completes the exploration of additional features being added to the mix. Now we identify which of those features are most important in classifying the next day's return direction (up or even/down).\n"
      ]
    },
    {
      "cell_type": "code",
      "execution_count": 43,
      "metadata": {
        "colab": {
          "base_uri": "https://localhost:8080/"
        },
        "id": "37nFUEpqUUsY",
        "outputId": "c061f80e-5a67-41c4-97b7-d323c9d08ca5"
      },
      "outputs": [
        {
          "output_type": "stream",
          "name": "stdout",
          "text": [
            "Feature names correspond to Numpy array columns: ['CloseLag1', 'CloseLag2', 'CloseLag3', 'HMLLag1', 'HMLLag2', 'HMLLag3', 'OMCLag1', 'OMCLag2', 'OMCLag3', 'VolumeLag1', 'VolumeLag2', 'VolumeLag3', 'CloseEMA2', 'CloseEMA4', 'CloseEMA8', 'SPYUp', 'gldUp', 'vgtUp', 'vbUp', 'iveUp', 'xliUp', 'xluUp', 'slvUp', 'usoUp']\n",
            "shape: (24, 2)\n",
            "┌────────────┬────────────┐\n",
            "│ feature    ┆ importance │\n",
            "│ ---        ┆ ---        │\n",
            "│ str        ┆ f32        │\n",
            "╞════════════╪════════════╡\n",
            "│ usoUp      ┆ 0.101      │\n",
            "│ vbUp       ┆ 0.082      │\n",
            "│ xliUp      ┆ 0.065      │\n",
            "│ iveUp      ┆ 0.058      │\n",
            "│ vgtUp      ┆ 0.044      │\n",
            "│ gldUp      ┆ 0.042      │\n",
            "│ slvUp      ┆ 0.041      │\n",
            "│ SPYUp      ┆ 0.038      │\n",
            "│ CloseLag2  ┆ 0.037      │\n",
            "│ CloseLag1  ┆ 0.036      │\n",
            "│ OMCLag1    ┆ 0.034      │\n",
            "│ VolumeLag2 ┆ 0.034      │\n",
            "│ CloseEMA2  ┆ 0.034      │\n",
            "│ CloseEMA4  ┆ 0.034      │\n",
            "│ CloseEMA8  ┆ 0.034      │\n",
            "│ HMLLag2    ┆ 0.033      │\n",
            "│ VolumeLag3 ┆ 0.033      │\n",
            "│ HMLLag1    ┆ 0.032      │\n",
            "│ HMLLag3    ┆ 0.032      │\n",
            "│ OMCLag2    ┆ 0.032      │\n",
            "│ OMCLag3    ┆ 0.032      │\n",
            "│ xluUp      ┆ 0.032      │\n",
            "│ VolumeLag1 ┆ 0.031      │\n",
            "│ CloseLag3  ┆ 0.03       │\n",
            "└────────────┴────────────┘\n"
          ]
        }
      ],
      "source": [
        "featureNames = wtiTrainETF.columns\n",
        "print(\"Feature names correspond to Numpy array columns:\",featureNames)\n",
        "\n",
        "# Get feature importances\n",
        "importances = np.round(model.feature_importances_, decimals = 3)\n",
        "\n",
        "# Create Polars DataFrame\n",
        "importanceDF = pl.DataFrame({\"feature\": featureNames, \"importance\": importances})\n",
        "\n",
        "with pl.Config(\n",
        "    tbl_rows = 60):\n",
        "    print(importanceDF.sort(\"importance\", descending=True))"
      ]
    },
    {
      "cell_type": "markdown",
      "metadata": {
        "id": "WoNG8QZfUUsY"
      },
      "source": [
        "### Repeat the Modeling Process\n",
        "For subsequent model development, we can retain the top features and then run additional tests with new features using the procedure demonstrated in this analysis\n"
      ]
    },
    {
      "cell_type": "markdown",
      "metadata": {
        "id": "lFxfU2TgUUsY"
      },
      "source": [
        "## References\n",
        "\n",
        "* [yfinance GitHub](https://github.com/ranaroussi/yfinance)\n",
        "* [yfinance Documentation](https://ranaroussi.github.io/yfinance/)\n",
        "* [Polars Online User Guide](https://docs.pola.rs/)\n",
        "* [Build Polars Database](https://www.pyquantnews.com/free-python-resources/build-stock-database-locally-with-polars)\n",
        "* [YouTube. Polars and Time Series: What It Can Do, and How to Overcome Any Limitation](https://www.youtube.com/watch?v=qz-zAHBz6Ks)\n",
        "* [Awesome Quant: Python for Quantiative Finance](https://wilsonfreitas.github.io/awesome-quant/)\n",
        "* [Cross-validation](https://scikit-learn.org/stable/modules/cross_validation.html)\n",
        "* [TimeSeriesSplit](https://scikit-learn.org/stable/modules/generated/sklearn.model_selection.TimeSeriesSplit.html)\n",
        "* [RandomizedSearchCV](https://scikit-learn.org/stable/modules/generated/sklearn.model_selection.RandomizedSearchCV.html)\n",
        "* [Hyperparameter Tuning](https://scikit-learn.org/stable/modules/grid_search.html#grid-search)\n",
        "* [Metrics and Scoring](https://scikit-learn.org/stable/modules/model_evaluation.html#scoring-parameter)\n",
        "* [Introduction to Boosted Trees](https://xgboost.readthedocs.io/en/latest/tutorials/model.html)\n",
        "* [XGBoost documentation](https://xgboost.readthedocs.io/en/latest/index.html)\n",
        "* [XGBoost in Python documentation](https://xgboost-clone.readthedocs.io/en/latest/python/python_intro.html)\n",
        "* [Auto-Sklearn for AutoML in an Scikit-Learn Environment](https://www.automl.org/automl-for-x/tabular-data/auto-sklearn/)."
      ]
    }
  ],
  "metadata": {
    "kernelspec": {
      "display_name": "Python 3 (ipykernel)",
      "language": "python",
      "name": "python3"
    },
    "language_info": {
      "codemirror_mode": {
        "name": "ipython",
        "version": 3
      },
      "file_extension": ".py",
      "mimetype": "text/x-python",
      "name": "python",
      "nbconvert_exporter": "python",
      "pygments_lexer": "ipython3",
      "version": "3.13.3"
    },
    "nbTranslate": {
      "displayLangs": [
        "*"
      ],
      "hotkey": "alt-t",
      "langInMainMenu": true,
      "sourceLang": "en",
      "targetLang": "fr",
      "useGoogleTranslate": true
    },
    "toc": {
      "base_numbering": 1,
      "nav_menu": {},
      "number_sections": false,
      "sideBar": true,
      "skip_h1_title": true,
      "title_cell": "Table of Contents",
      "title_sidebar": "Contents",
      "toc_cell": false,
      "toc_position": {
        "height": "calc(100% - 180px)",
        "left": "10px",
        "top": "150px",
        "width": "341.331543px"
      },
      "toc_section_display": true,
      "toc_window_display": false
    },
    "toc-autonumbering": false,
    "toc-showtags": false,
    "varInspector": {
      "cols": {
        "lenName": 16,
        "lenType": 16,
        "lenVar": 40
      },
      "kernels_config": {
        "python": {
          "delete_cmd_postfix": "",
          "delete_cmd_prefix": "del ",
          "library": "var_list.py",
          "varRefreshCmd": "print(var_dic_list())"
        },
        "r": {
          "delete_cmd_postfix": ") ",
          "delete_cmd_prefix": "rm(",
          "library": "var_list.r",
          "varRefreshCmd": "cat(var_dic_list()) "
        }
      },
      "types_to_exclude": [
        "module",
        "function",
        "builtin_function_or_method",
        "instance",
        "_Feature"
      ],
      "window_display": false
    },
    "colab": {
      "provenance": [],
      "include_colab_link": true
    }
  },
  "nbformat": 4,
  "nbformat_minor": 0
}